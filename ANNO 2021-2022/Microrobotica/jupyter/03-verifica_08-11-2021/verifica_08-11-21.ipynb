{
 "cells": [
  {
   "cell_type": "markdown",
   "id": "58c15881",
   "metadata": {},
   "source": [
    "# FERRERO e GABRIELE"
   ]
  },
  {
   "cell_type": "code",
   "execution_count": null,
   "id": "e9320188",
   "metadata": {},
   "outputs": [],
   "source": [
    "import numpy"
   ]
  },
  {
   "cell_type": "markdown",
   "id": "33912e99",
   "metadata": {},
   "source": [
    "# Esercizio 1\n",
    "Ogni giorno tu e un tuo compagno vi giocate la merenda giornaliera lanciando due dadi a sei facce. Ogni giorno, la merenda è tua se dopo un certo numero `n_lanci` di lanci dei due dadi esce un valore maggiore o uguale a 10. Supponendo 200 giorni di scuola totali, scrivi una funzione che:\n",
    "- faccia uso di della libreria `numpy`;\n",
    "- abbia `n_lanci` come parametro;\n",
    "- restituisca il numero totale di giorni in cui vinci tu la merenda, simulando i lanci dei dadi per i 200 giorni di scuola.\n",
    "\n",
    "**[BONUS]** Quanto deve valere `n_lanci` affinchè il gioco sia equo?"
   ]
  },
  {
   "cell_type": "code",
   "execution_count": null,
   "id": "f8ac8c34",
   "metadata": {},
   "outputs": [],
   "source": [
    "def maggiore(n):\n",
    "    return n >= 10"
   ]
  },
  {
   "cell_type": "code",
   "execution_count": null,
   "id": "1312f632",
   "metadata": {},
   "outputs": [],
   "source": [
    "n_lanci = 10\n",
    "num_giorni = 200"
   ]
  },
  {
   "cell_type": "code",
   "execution_count": null,
   "id": "2827b095",
   "metadata": {},
   "outputs": [],
   "source": [
    "num_giorni_in_cui_prende_la_merenda = 0\n",
    "\n",
    "for _ in range(num_giorni):\n",
    "\n",
    "    lancio_dato1 = numpy.random.randint(low=1, high=7, size=n_lanci)\n",
    "    lancio_dato2 = numpy.random.randint(low=1, high=7, size=n_lanci)\n",
    "\n",
    "    somma_lanci = lancio_dato1 + lancio_dato2\n",
    "\n",
    "    maggiore_v = numpy.vectorize(maggiore)\n",
    "    somma_lanci = maggiore_v(somma_lanci)\n",
    "    \n",
    "    if True in somma_lanci:\n",
    "        num_giorni_in_cui_prende_la_merenda += 1\n",
    "        \n",
    "print(f\"PROBABILITÀ: {num_giorni_in_cui_prende_la_merenda/num_giorni}\")\n",
    "print(f\"PROBABILITÀ PERCENTUALE: {num_giorni_in_cui_prende_la_merenda/num_giorni*100}%\")"
   ]
  },
  {
   "cell_type": "markdown",
   "id": "fa2ae6b5",
   "metadata": {},
   "source": [
    "# Esercizio 2\n",
    "Creare un notebook jupyter che a partire dal testo contenuto nel file ___\"J_Verne_girodelmondoin80giorni.txt\"___:\n",
    "\n",
    "1. crei un dizionario delle frequenze per ciascun carattere (**line feed escluso**); \n",
    "2. crei il dizionario delle adiacenze per ciascun carattere (**line feed escluso**);\n",
    "3. **[FACOLTATIVO]** crei un indice dei capitoli. Ogni capitolo inizia riportando il numero romano del capitolo e il suo titolo in questo modo:\n",
    "\n",
    ">CAPITOLO XXIX.\n",
    ">\n",
    ">Nel quale si narrano cose che capitano unicamente sulle ferrovie\n",
    ">americane.\n"
   ]
  },
  {
   "cell_type": "code",
   "execution_count": null,
   "id": "caf361e1",
   "metadata": {},
   "outputs": [],
   "source": [
    "lista_caratteri = []\n",
    "lista_parole = []\n",
    "frequenze = {}\n",
    "adiacenze = {}\n",
    "capitoli = {}"
   ]
  },
  {
   "cell_type": "code",
   "execution_count": null,
   "id": "5e2d392f",
   "metadata": {},
   "outputs": [],
   "source": [
    "# in questa cella viene estratto l'intero testo e salvato dentro una lista\n",
    "\n",
    "with open(\"./Gabriele Ferrero - J_Verne_girodelmondoin80giorni.txt\", \"r\") as file:\n",
    "    contenuto = file.read().replace(\"\\n\", \"\")\n",
    "    lista_caratteri = list(contenuto)\n",
    "    \n",
    "    for parola in contenuto.split(\" \"):\n",
    "        if parola != \"\":\n",
    "            lista_parole.append(parola)\n",
    "\n",
    "lista_parole"
   ]
  },
  {
   "cell_type": "code",
   "execution_count": null,
   "id": "4210a397",
   "metadata": {},
   "outputs": [],
   "source": [
    "# in questa cella vengono calcolate le frequenze di ogni parola\n",
    "\n",
    "number_list = numpy.array(lista_caratteri)\n",
    "(unique, counts) = numpy.unique(number_list, return_counts=True)\n",
    "frequencies = numpy.asarray((unique, counts)).T\n",
    "\n",
    "#print(frequencies)\n",
    "\n",
    "frequenze = dict(frequencies)\n",
    "frequenze"
   ]
  },
  {
   "cell_type": "code",
   "execution_count": null,
   "id": "a8682795",
   "metadata": {},
   "outputs": [],
   "source": [
    "# in questa cella vengono calcolate le adiacenze\n",
    "\n",
    "for carattere in frequenze:\n",
    "    adiacenze[carattere] = []\n",
    "    \n",
    "    \n",
    "for i, carattere in enumerate(lista_caratteri):\n",
    "    if i < len(lista_caratteri)-1:\n",
    "        if lista_caratteri[i+1] not in adiacenze[carattere]:\n",
    "            adiacenze[carattere].append(lista_caratteri[i+1])\n",
    "        \n",
    "adiacenze"
   ]
  },
  {
   "cell_type": "code",
   "execution_count": null,
   "id": "870514dd",
   "metadata": {},
   "outputs": [],
   "source": [
    "num_capitolo = \"PREFAZIONE\"\n",
    "capitoli[num_capitolo] = \"\"\n",
    "\n",
    "for i, parola in enumerate(lista_parole):\n",
    "    if \"CAPITOLO\" in parola: \n",
    "        num_capitolo = lista_parole[i+1].split(\".\")[0];\n",
    "        capitoli[num_capitolo] = \"\"\n",
    "    else: capitoli[num_capitolo] += parola+\" \"\n",
    "        \n",
    "capitoli"
   ]
  }
 ],
 "metadata": {
  "kernelspec": {
   "display_name": "Python 3 (ipykernel)",
   "language": "python",
   "name": "python3"
  },
  "language_info": {
   "codemirror_mode": {
    "name": "ipython",
    "version": 3
   },
   "file_extension": ".py",
   "mimetype": "text/x-python",
   "name": "python",
   "nbconvert_exporter": "python",
   "pygments_lexer": "ipython3",
   "version": "3.8.8"
  }
 },
 "nbformat": 4,
 "nbformat_minor": 5
}
