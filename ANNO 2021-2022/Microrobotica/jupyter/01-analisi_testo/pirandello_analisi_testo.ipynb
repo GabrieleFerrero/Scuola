{
 "cells": [
  {
   "cell_type": "markdown",
   "id": "2eb32745",
   "metadata": {},
   "source": [
    "## Sei personaggi in cerca di autore\n",
    "\n",
    "1. Leggere il file .txt e creare un dizionario frequenze dove mettiamo come chiavi le varie parole che utilizza e come valore il numero di volte che lo utilizza\n",
    "\n",
    "2. Fare un dizionario chiamato adiacenze, dove le chiavi sono le possibili parole, mentre il valore è una lista con le parole che succedono la parola: Ad esempio \"il giorno, ... \" -> il è la chiave e all'interno della lista metto giorno"
   ]
  },
  {
   "cell_type": "code",
   "execution_count": null,
   "id": "613e64e9",
   "metadata": {},
   "outputs": [],
   "source": [
    "import random"
   ]
  },
  {
   "cell_type": "code",
   "execution_count": null,
   "id": "1443f8c1",
   "metadata": {},
   "outputs": [],
   "source": [
    "frequenze = {}\n",
    "adiacenze = {}\n",
    "lista_testo = []"
   ]
  },
  {
   "cell_type": "code",
   "execution_count": null,
   "id": "707785b6",
   "metadata": {},
   "outputs": [],
   "source": [
    "# funzione per rimuovere caratteri speciali\n",
    "def remove_special_chars(word):\n",
    "    specialChars = [\"\\n\",\"\\t\",\"(\",\")\",\".\",\",\",\";\",\":\",\"?\",\"!\",\"«\",\"»\",\"-\"]\n",
    "    parola = word.lower()\n",
    "    for specialChar in specialChars:\n",
    "        parola = parola.replace(specialChar, '')\n",
    "    return parola"
   ]
  },
  {
   "cell_type": "code",
   "execution_count": null,
   "id": "0d6974b7",
   "metadata": {},
   "outputs": [],
   "source": [
    "# in questa cella viene estratto l'intero testo e salvato dentro una lista\n",
    "\n",
    "with open(\"./sei_personaggi_in_cerca_dautore_Luigi_Pirandello.txt\", \"r\") as file:\n",
    "    for riga in file.readlines():\n",
    "        for parola in riga.split(\" \"):\n",
    "            parola = remove_special_chars(parola)\n",
    "            if parola != \"\":\n",
    "                lista_testo.append(parola)\n",
    "\n",
    "lista_testo"
   ]
  },
  {
   "cell_type": "code",
   "execution_count": null,
   "id": "a794c828",
   "metadata": {},
   "outputs": [],
   "source": [
    "# in questa cella vengono calcolate le frequenze di ogni parola\n",
    "\n",
    "for parola in lista_testo:\n",
    "    frequenze[parola] = lista_testo.count(parola)\n",
    "        \n",
    "frequenze"
   ]
  },
  {
   "cell_type": "code",
   "execution_count": null,
   "id": "e2422d04",
   "metadata": {},
   "outputs": [],
   "source": [
    "# in questa cella vengono le n parole più frequenti\n",
    "\n",
    "lista_frequenze_ordinato = sorted(frequenze.items(), key=lambda x: x[1], reverse=True)\n",
    "# questo codice serve a riordinare il dizionario in ordine decrescente in base al valore di ogni cella\n",
    "# è una lista di tuple contenente (chiave, valore)\n",
    "\n",
    "num = int(input(\"Numero parole più usate: \"))\n",
    "\n",
    "for i, tupla in enumerate(lista_frequenze_ordinato):\n",
    "    if i < num:\n",
    "        print(f\"La parola più frequente è \\\"{tupla[0]}\\\", con una frequenza di {tupla[1]}, a seguire\") \n",
    "    else: break\n",
    "    \n",
    "print(\"...\")"
   ]
  },
  {
   "cell_type": "code",
   "execution_count": null,
   "id": "f43e769a",
   "metadata": {
    "scrolled": true
   },
   "outputs": [],
   "source": [
    "# in questa cella vengono calcolate le adiacenze\n",
    "\n",
    "for parola in lista_testo:\n",
    "    adiacenze[parola] = []\n",
    "\n",
    "\n",
    "for i, parola in enumerate(lista_testo):\n",
    "    if i < len(lista_testo)-1:\n",
    "        if lista_testo[i+1] not in adiacenze[parola]:\n",
    "            adiacenze[parola].append(lista_testo[i+1])\n",
    "        \n",
    "adiacenze"
   ]
  },
  {
   "cell_type": "code",
   "execution_count": null,
   "id": "3ca662c5",
   "metadata": {},
   "outputs": [],
   "source": [
    "# in questa cella viene generata una frase sulla base del dizionario adiacenze\n",
    "\n",
    "num = int(input(\"Numero parole frase: \"))\n",
    "\n",
    "frase = \"\"\n",
    "\n",
    "parola = random.choice(lista_testo)\n",
    "frase += parola+\" \"\n",
    "\n",
    "for _ in range(num):\n",
    "    parola = random.choice(adiacenze[parola])\n",
    "    frase += parola+\" \"\n",
    "    \n",
    "frase   "
   ]
  },
  {
   "cell_type": "code",
   "execution_count": null,
   "id": "a43933d6",
   "metadata": {},
   "outputs": [],
   "source": [
    "# in questa cella viene gerata una frase in modo completamente randomico\n",
    "\n",
    "frase = \"\"\n",
    "\n",
    "for _ in range(100):\n",
    "    frase += random.choice(lista_testo) + \" \"\n",
    "    \n",
    "frase"
   ]
  }
 ],
 "metadata": {
  "kernelspec": {
   "display_name": "Python 3.8.8 64-bit ('base': conda)",
   "language": "python",
   "name": "python388jvsc74a57bd06f18c4de4160095836afbcd218945368ec6e483e1785db3592de3608027673bf"
  },
  "language_info": {
   "codemirror_mode": {
    "name": "ipython",
    "version": 3
   },
   "file_extension": ".py",
   "mimetype": "text/x-python",
   "name": "python",
   "nbconvert_exporter": "python",
   "pygments_lexer": "ipython3",
   "version": "3.8.8"
  }
 },
 "nbformat": 4,
 "nbformat_minor": 5
}
