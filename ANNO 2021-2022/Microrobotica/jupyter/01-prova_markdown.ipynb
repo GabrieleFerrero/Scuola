{
 "cells": [
  {
   "cell_type": "markdown",
   "id": "19f329c8",
   "metadata": {},
   "source": [
    "\n",
    "# Shortcut\n",
    "\n",
    "<img src=\"https://upload.wikimedia.org/wikipedia/commons/thumb/3/38/Jupyter_logo.svg/1200px-Jupyter_logo.svg.png\" width=\"100\" height=\"100\" />\n",
    "\n",
    "## Le scorciatoie utili in command mode\n",
    "\n",
    "Per poterle usare in _command mode_ con `ESC` (bordo blu):\n",
    "\n",
    "-  **`INVIO`** entra in _editing mode_\n",
    "-  **`a`** inserisce una nuova cella sopra (above) la corrente\n",
    "-  **`b`** inserisce una nuova cella sotto (below) la corrente\n",
    "-  **`CTRL+INVIO`** esegue la cella corrente e resta in essa\n",
    "-  **`SHIFT+INVIO`** esegue la cella corrente e si sposta sulla successiva (se non c'è la crea)\n",
    "-  **`ALT+INVIO`** esegue la cella corrente e ne crea una nuova sotto di essa\n",
    "-  **`m`** trasforma la cella corrente in tipo _Marckdown_\n",
    "-  **`y`** trasforma la cella corrente in tipo Code\n",
    "-  **`d d`** elimina la cella corrente\n",
    "-  **`x` `c` `v`** taglia o copia la cella corrente e la incolla nella cella sotto (**`SHIFT + v`** la incolla sopra)\n",
    "-  **`z`** annulla l'ultima operazione\n",
    "-  **`FRECCIA SU`** o **`GIU`** per spostarsi fra le celle"
   ]
  },
  {
   "cell_type": "code",
   "execution_count": null,
   "id": "493dadec",
   "metadata": {},
   "outputs": [],
   "source": []
  }
 ],
 "metadata": {
  "kernelspec": {
   "display_name": "Python 3 (ipykernel)",
   "language": "python",
   "name": "python3"
  },
  "language_info": {
   "codemirror_mode": {
    "name": "ipython",
    "version": 3
   },
   "file_extension": ".py",
   "mimetype": "text/x-python",
   "name": "python",
   "nbconvert_exporter": "python",
   "pygments_lexer": "ipython3",
   "version": "3.8.8"
  }
 },
 "nbformat": 4,
 "nbformat_minor": 5
}
