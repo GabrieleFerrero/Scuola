{
 "cells": [
  {
   "cell_type": "code",
   "execution_count": 2,
   "id": "9c3c7881",
   "metadata": {},
   "outputs": [],
   "source": [
    "import numpy as np"
   ]
  },
  {
   "cell_type": "markdown",
   "id": "cd48c423",
   "metadata": {},
   "source": [
    "## Broadcast"
   ]
  },
  {
   "cell_type": "code",
   "execution_count": 3,
   "id": "92f3f7c2",
   "metadata": {},
   "outputs": [
    {
     "data": {
      "text/plain": [
       "array([ 0,  1,  2,  3,  4,  5,  6,  7,  8,  9, 10, 11])"
      ]
     },
     "execution_count": 3,
     "metadata": {},
     "output_type": "execute_result"
    }
   ],
   "source": [
    "a = np.arange(0,12)\n",
    "a"
   ]
  },
  {
   "cell_type": "code",
   "execution_count": 4,
   "id": "d7cdeaec",
   "metadata": {},
   "outputs": [
    {
     "data": {
      "text/plain": [
       "array([ 5,  6,  7,  8,  9, 10, 11, 12, 13, 14, 15, 16])"
      ]
     },
     "execution_count": 4,
     "metadata": {},
     "output_type": "execute_result"
    }
   ],
   "source": [
    "a +5\n",
    "\n",
    "# questa cosa qui si chiama broadcast ovvero che la somma viene diffusa su tutti gli elementi"
   ]
  },
  {
   "cell_type": "code",
   "execution_count": 12,
   "id": "af14a18d",
   "metadata": {},
   "outputs": [
    {
     "data": {
      "text/plain": [
       "array([[ 0,  1,  2],\n",
       "       [ 3,  4,  5],\n",
       "       [ 6,  7,  8],\n",
       "       [ 9, 10, 11]])"
      ]
     },
     "execution_count": 12,
     "metadata": {},
     "output_type": "execute_result"
    }
   ],
   "source": [
    "b = a.reshape((-1,3))\n",
    "b\n",
    "\n",
    "# se mettessi al posto di 4 -1 numpy calcolerebbe lui la sua dimensione"
   ]
  },
  {
   "cell_type": "code",
   "execution_count": 13,
   "id": "f75aa48a",
   "metadata": {},
   "outputs": [
    {
     "data": {
      "text/plain": [
       "array([100., 100., 100.])"
      ]
     },
     "execution_count": 13,
     "metadata": {},
     "output_type": "execute_result"
    }
   ],
   "source": [
    "c = np.ones(3)*100\n",
    "c"
   ]
  },
  {
   "cell_type": "code",
   "execution_count": 15,
   "id": "5206aa9b",
   "metadata": {},
   "outputs": [
    {
     "data": {
      "text/plain": [
       "array([[100., 101., 102.],\n",
       "       [103., 104., 105.],\n",
       "       [106., 107., 108.],\n",
       "       [109., 110., 111.]])"
      ]
     },
     "execution_count": 15,
     "metadata": {},
     "output_type": "execute_result"
    }
   ],
   "source": [
    "# se faccio b + c\n",
    "b + c\n",
    "\n",
    "# in questo caso è appena avvenuto il broadcast riga per riga"
   ]
  },
  {
   "cell_type": "code",
   "execution_count": 18,
   "id": "36159be6",
   "metadata": {},
   "outputs": [
    {
     "ename": "ValueError",
     "evalue": "operands could not be broadcast together with shapes (4,3) (4,) ",
     "output_type": "error",
     "traceback": [
      "\u001b[0;31m---------------------------------------------------------------------------\u001b[0m",
      "\u001b[0;31mValueError\u001b[0m                                Traceback (most recent call last)",
      "\u001b[0;32m<ipython-input-18-c2894b341380>\u001b[0m in \u001b[0;36m<module>\u001b[0;34m\u001b[0m\n\u001b[1;32m      3\u001b[0m \u001b[0;34m\u001b[0m\u001b[0m\n\u001b[1;32m      4\u001b[0m \u001b[0mc\u001b[0m \u001b[0;34m=\u001b[0m \u001b[0mnp\u001b[0m\u001b[0;34m.\u001b[0m\u001b[0mones\u001b[0m\u001b[0;34m(\u001b[0m\u001b[0;36m4\u001b[0m\u001b[0;34m)\u001b[0m\u001b[0;34m*\u001b[0m\u001b[0;36m100\u001b[0m\u001b[0;34m\u001b[0m\u001b[0;34m\u001b[0m\u001b[0m\n\u001b[0;32m----> 5\u001b[0;31m \u001b[0mb\u001b[0m \u001b[0;34m+\u001b[0m \u001b[0mc\u001b[0m\u001b[0;34m\u001b[0m\u001b[0;34m\u001b[0m\u001b[0m\n\u001b[0m",
      "\u001b[0;31mValueError\u001b[0m: operands could not be broadcast together with shapes (4,3) (4,) "
     ]
    }
   ],
   "source": [
    "# se io avessi sommato a b una array più lungo o più corto, avrebbe dato errore, dato che non sarebbero corrisposte\n",
    "# le lunghezze delle righe\n",
    "\n",
    "c = np.ones(4)*100\n",
    "b + c"
   ]
  },
  {
   "cell_type": "markdown",
   "id": "7fb67f32",
   "metadata": {},
   "source": [
    "### ESEMPIO"
   ]
  },
  {
   "cell_type": "code",
   "execution_count": null,
   "id": "390857d2",
   "metadata": {},
   "outputs": [],
   "source": [
    "import uuid"
   ]
  },
  {
   "cell_type": "code",
   "execution_count": 25,
   "id": "900c1e1e",
   "metadata": {},
   "outputs": [],
   "source": [
    "n_passeggeri = 2000000\n",
    "temperature = np.random.normal(36.5, 0.25, n_passaggeri)\n",
    "identificativi = np.array([str(uuid.uuid4()) for _ in range(n_passeggeri)])"
   ]
  },
  {
   "cell_type": "code",
   "execution_count": 26,
   "id": "f2df4543",
   "metadata": {},
   "outputs": [
    {
     "name": "stdout",
     "output_type": "stream",
     "text": [
      "56.8 µs ± 349 ns per loop (mean ± std. dev. of 7 runs, 10000 loops each)\n"
     ]
    }
   ],
   "source": [
    "%%timeit # permette di capire quato tempo impiega ad eseguire il codice dentro una cella\n",
    "\n",
    "contatore = np.count_nonzero(temperature > 37.5)"
   ]
  }
 ],
 "metadata": {
  "kernelspec": {
   "display_name": "Python 3 (ipykernel)",
   "language": "python",
   "name": "python3"
  },
  "language_info": {
   "codemirror_mode": {
    "name": "ipython",
    "version": 3
   },
   "file_extension": ".py",
   "mimetype": "text/x-python",
   "name": "python",
   "nbconvert_exporter": "python",
   "pygments_lexer": "ipython3",
   "version": "3.8.8"
  }
 },
 "nbformat": 4,
 "nbformat_minor": 5
}
