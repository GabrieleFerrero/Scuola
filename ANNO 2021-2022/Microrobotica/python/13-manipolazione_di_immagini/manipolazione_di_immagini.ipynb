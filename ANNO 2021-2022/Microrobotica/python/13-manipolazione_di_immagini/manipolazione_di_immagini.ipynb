{
 "cells": [
  {
   "cell_type": "markdown",
   "id": "933300c0",
   "metadata": {},
   "source": [
    "### IMMAGINI CON NUMPY\n",
    "\n",
    "#### TEORIA:\n",
    "\n",
    "Con numpy si possono anche manipolare facilmente le immagini.\n",
    "Anzi di solito le immagini sono array numpy.\n",
    "\n",
    "Esistono 3 tipi di immagini:\n",
    "\n",
    "- immagine **raster o bitmap**:in questi casi si salva ogni singolo bit (es. png)\n",
    "- immagini **jpeg, ecc...** : sono formati immagini compresse, pesano di meno, ma perdono in precisione/qualità\n",
    "- formati **vettoriali**: hanno risoluzione infinita, si salvano la posizione dei diversi oggetti dentro una foto (il pdf è un vettoriale compresso)\n",
    "    \n",
    "Esistono immagini in:\n",
    "\n",
    "- **tonalità di grigi** (anche detta scala di grigi), ogni singolo pixel ha uno stato è un numero, il valore di    solito va da 0 a 255. Più si vuole sfumature di grigio più si aumentano i bit dedicati al colore (pixel = 0: pixel spento quindi nero, pixel = 1: pixel accesso quindi bianco)\n",
    "- **RGB** (red, green, blue), con la giusta dose di questi tre colori posso comporre qualsiasi altro colore, quindi ogni pixel è composto da tre numeri, se tutti i pixel sono a 0 il colore risultante è nero, se tutti i pixel sono a 1 il colore risultante è bianco\n",
    "- **HSV**, serve per rappresentare tonalita, saturazione e intensità\n",
    "    \n",
    "    \n",
    "In genere ogni immagine RGB è un array numpy tridimensionale (una riga per il rosso, una riga per il verde ed una riga per il blu) mentre le immagini in scala di grigi sono array monodimensionali.\n",
    "\n",
    "### OPEN CV\n",
    "\n",
    "CV sta per computer vision, è un libreria molto famosa e permette di fare molte cose riguardo la manipolazione di immagini."
   ]
  },
  {
   "cell_type": "code",
   "execution_count": null,
   "id": "6e48c47c",
   "metadata": {},
   "outputs": [],
   "source": [
    "import cv2 as cv\n",
    "\n",
    "img = cv.imread(\"rettangolo.png\") # apre il file con l'immagini salvata\n",
    "# crea delle copie dell'immagine originale\n",
    "\n",
    "img_lighter = img.copy()\n",
    "img_ darker = img.copy()\n",
    "\n",
    "tot = 100\n",
    "# schiarisce il tot\n",
    "img_lighter = np.where(img_lighter>=255-tot, 255, img_lighter+tot)\n",
    "# scurisce il tot\n",
    "img_darker = np.where(img_darker<=tot, 0, img_darker-tot)\n",
    "# visualizza i risultati\n",
    "cv.imshow(\"Image lighter\", img_lighter)\n",
    "cv.imshow(\"Image darker\", img_darker)\n",
    "cv.waitKey(0)\n",
    "cv.destroyAllWindows()"
   ]
  }
 ],
 "metadata": {
  "kernelspec": {
   "display_name": "Python 3 (ipykernel)",
   "language": "python",
   "name": "python3"
  },
  "language_info": {
   "codemirror_mode": {
    "name": "ipython",
    "version": 3
   },
   "file_extension": ".py",
   "mimetype": "text/x-python",
   "name": "python",
   "nbconvert_exporter": "python",
   "pygments_lexer": "ipython3",
   "version": "3.8.8"
  }
 },
 "nbformat": 4,
 "nbformat_minor": 5
}
