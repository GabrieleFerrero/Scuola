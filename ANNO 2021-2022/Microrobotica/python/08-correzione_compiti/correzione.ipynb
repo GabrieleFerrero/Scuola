{
 "cells": [
  {
   "cell_type": "code",
   "execution_count": 2,
   "metadata": {},
   "outputs": [],
   "source": [
    "import numpy as np"
   ]
  },
  {
   "cell_type": "markdown",
   "metadata": {},
   "source": [
    "### Creare una matrice fatta scacchiera 8x8 alternando 0 e 1 (la prima cella è uno 0)"
   ]
  },
  {
   "cell_type": "code",
   "execution_count": 3,
   "metadata": {},
   "outputs": [
    {
     "data": {
      "text/plain": [
       "array([[0, 1],\n",
       "       [0, 3],\n",
       "       [0, 5],\n",
       "       [0, 7],\n",
       "       [1, 0],\n",
       "       [1, 2],\n",
       "       [1, 4],\n",
       "       [1, 6],\n",
       "       [2, 1],\n",
       "       [2, 3],\n",
       "       [2, 5],\n",
       "       [2, 7],\n",
       "       [3, 0],\n",
       "       [3, 2],\n",
       "       [3, 4],\n",
       "       [3, 6],\n",
       "       [4, 1],\n",
       "       [4, 3],\n",
       "       [4, 5],\n",
       "       [4, 7],\n",
       "       [5, 0],\n",
       "       [5, 2],\n",
       "       [5, 4],\n",
       "       [5, 6],\n",
       "       [6, 1],\n",
       "       [6, 3],\n",
       "       [6, 5],\n",
       "       [6, 7],\n",
       "       [7, 0],\n",
       "       [7, 2],\n",
       "       [7, 4],\n",
       "       [7, 6]])"
      ]
     },
     "execution_count": 3,
     "metadata": {},
     "output_type": "execute_result"
    }
   ],
   "source": [
    "# si nota che la somma degli indici (x+y)%2 da come risultato un alternaza di 0 e 1 come desiderato\n",
    "\n",
    "indici_uno = np.array([[i,j] for i in range(8) for j in range(8) if (i+j)%2==1])\n",
    "indici_uno # è un array di indici dove bisogna inserire 1 nella matrice"
   ]
  },
  {
   "cell_type": "code",
   "execution_count": 4,
   "metadata": {},
   "outputs": [
    {
     "data": {
      "text/plain": [
       "array([[0., 1., 0., 1., 0., 1., 0., 1.],\n",
       "       [1., 0., 1., 0., 1., 0., 1., 0.],\n",
       "       [0., 1., 0., 1., 0., 1., 0., 1.],\n",
       "       [1., 0., 1., 0., 1., 0., 1., 0.],\n",
       "       [0., 1., 0., 1., 0., 1., 0., 1.],\n",
       "       [1., 0., 1., 0., 1., 0., 1., 0.],\n",
       "       [0., 1., 0., 1., 0., 1., 0., 1.],\n",
       "       [1., 0., 1., 0., 1., 0., 1., 0.]])"
      ]
     },
     "execution_count": 4,
     "metadata": {},
     "output_type": "execute_result"
    }
   ],
   "source": [
    "Z = np.zeros(shape=(8,8))\n",
    "Z[indici_uno.T[0],indici_uno.T[1]]=1 \n",
    "# con .T indico di transporre, ovvero scambio le righe con le colonne\n",
    "# indici_uno.T[0] --> si riferisce alle x\n",
    "# indici_uno.T[1] --> si riferisce alle y\n",
    "Z"
   ]
  },
  {
   "cell_type": "code",
   "execution_count": null,
   "metadata": {},
   "outputs": [],
   "source": [
    "#MODO 2\n",
    "#mat[::2, significa prendi tutto di due in due]\n",
    "mat_2 = np.ones((8,8), dtype=int)\n",
    "mat_2[::2,::2] = 0\n",
    "mat_2[1::2,1::2] = 0\n",
    "mat_2"
   ]
  },
  {
   "cell_type": "markdown",
   "metadata": {},
   "source": [
    "### Considerando l'array: Z = [1,2,3,4,5,6,7,8,9,10,11,12,13,14], generare un array R = [[1,2,3,4], [2,3,4,5], [3,4,5,6], ..., [11,12,13,14]]. "
   ]
  },
  {
   "cell_type": "code",
   "execution_count": 11,
   "metadata": {},
   "outputs": [
    {
     "data": {
      "text/plain": [
       "array([ 1,  2,  3,  4,  5,  6,  7,  8,  9, 10, 11, 12, 13, 14])"
      ]
     },
     "execution_count": 11,
     "metadata": {},
     "output_type": "execute_result"
    }
   ],
   "source": [
    "Z = np.arange(1,15) # genero array\n",
    "Z"
   ]
  },
  {
   "cell_type": "markdown",
   "metadata": {},
   "source": [
    "0,1,2,3,1,2,3,4,2,3,4,5"
   ]
  },
  {
   "cell_type": "code",
   "execution_count": 15,
   "metadata": {},
   "outputs": [
    {
     "data": {
      "text/plain": [
       "array([ 0,  1,  2,  3,  1,  2,  3,  4,  2,  3,  4,  5,  3,  4,  5,  6,  4,\n",
       "        5,  6,  7,  5,  6,  7,  8,  6,  7,  8,  9,  7,  8,  9, 10,  8,  9,\n",
       "       10, 11,  9, 10, 11, 12, 10, 11, 12, 13])"
      ]
     },
     "execution_count": 15,
     "metadata": {},
     "output_type": "execute_result"
    }
   ],
   "source": [
    "indici= np.array([i+j for i in range(0,11) for j in range(0,4)])\n",
    "indici"
   ]
  },
  {
   "cell_type": "code",
   "execution_count": 17,
   "metadata": {},
   "outputs": [
    {
     "data": {
      "text/plain": [
       "array([[ 1,  2,  3,  4],\n",
       "       [ 2,  3,  4,  5],\n",
       "       [ 3,  4,  5,  6],\n",
       "       [ 4,  5,  6,  7],\n",
       "       [ 5,  6,  7,  8],\n",
       "       [ 6,  7,  8,  9],\n",
       "       [ 7,  8,  9, 10],\n",
       "       [ 8,  9, 10, 11],\n",
       "       [ 9, 10, 11, 12],\n",
       "       [10, 11, 12, 13],\n",
       "       [11, 12, 13, 14]])"
      ]
     },
     "execution_count": 17,
     "metadata": {},
     "output_type": "execute_result"
    }
   ],
   "source": [
    "Z[indici].reshape((11,-1)) \n",
    "# con il reshape io modifico la forma dell'oggetto, con -1 indico che si deve calcolare lui l'altra dimensione"
   ]
  },
  {
   "cell_type": "markdown",
   "metadata": {},
   "source": [
    "### Creare una matrice fatta come un bersaglio 10x10, le cornici concentriche hanno valori crescenti verso il centro (quella più esterna ha valori = 1)"
   ]
  },
  {
   "cell_type": "code",
   "execution_count": 30,
   "metadata": {},
   "outputs": [
    {
     "name": "stdout",
     "output_type": "stream",
     "text": [
      "[[0. 0. 0. 0. 0. 0. 0. 0. 0. 0.]\n",
      " [0. 0. 0. 0. 0. 0. 0. 0. 0. 0.]\n",
      " [0. 0. 0. 0. 0. 0. 0. 0. 0. 0.]\n",
      " [0. 0. 0. 0. 0. 0. 0. 0. 0. 0.]\n",
      " [0. 0. 0. 0. 0. 0. 0. 0. 0. 0.]\n",
      " [0. 0. 0. 0. 0. 0. 0. 0. 0. 0.]\n",
      " [0. 0. 0. 0. 0. 0. 0. 0. 0. 0.]\n",
      " [0. 0. 0. 0. 0. 0. 0. 0. 0. 0.]\n",
      " [0. 0. 0. 0. 0. 0. 0. 0. 0. 0.]\n",
      " [0. 0. 0. 0. 0. 0. 0. 0. 0. 0.]]\n"
     ]
    }
   ],
   "source": [
    "s = 10\n",
    "Z = np.zeros(shape=(s,s))\n",
    "print(Z)"
   ]
  },
  {
   "cell_type": "code",
   "execution_count": 31,
   "metadata": {},
   "outputs": [
    {
     "data": {
      "text/plain": [
       "array([[1., 1., 1., 1., 1., 1., 1., 1., 1., 1.],\n",
       "       [1., 2., 2., 2., 2., 2., 2., 2., 2., 1.],\n",
       "       [1., 2., 3., 3., 3., 3., 3., 3., 2., 1.],\n",
       "       [1., 2., 3., 4., 4., 4., 4., 3., 2., 1.],\n",
       "       [1., 2., 3., 4., 5., 5., 4., 3., 2., 1.],\n",
       "       [1., 2., 3., 4., 5., 5., 4., 3., 2., 1.],\n",
       "       [1., 2., 3., 4., 4., 4., 4., 3., 2., 1.],\n",
       "       [1., 2., 3., 3., 3., 3., 3., 3., 2., 1.],\n",
       "       [1., 2., 2., 2., 2., 2., 2., 2., 2., 1.],\n",
       "       [1., 1., 1., 1., 1., 1., 1., 1., 1., 1.]])"
      ]
     },
     "execution_count": 31,
     "metadata": {},
     "output_type": "execute_result"
    }
   ],
   "source": [
    "for i in range(s-1,-1,-1): \n",
    "    # io con il primo -1 indico di arrivare nel conteggio fino a 0, \n",
    "    # mentre con il secondo -1 indico di andare di -1 in -1 (si conta al contrario, decrescente)\n",
    "    Z[:,i] = i+1\n",
    "    Z[:,s-i-1] = i+1\n",
    "    Z[i,:] = i+1\n",
    "    Z[s-i-1,:] = i+1\n",
    "    \n",
    "Z"
   ]
  },
  {
   "cell_type": "markdown",
   "metadata": {},
   "source": [
    "### Usando la funzione numpy.random.normal(mean, dev, shape) generare un ndarray che contenga la stima dell'altezza degli alunni della classe. L'ndarray deve avere lunghezza pari al numero di compagni di classe. I valori mean e dev devono essere stimati in modo tale da simulare la distribuzione dell'altezza degli alunni in cm nel modo più realistico possibile. "
   ]
  },
  {
   "cell_type": "markdown",
   "metadata": {},
   "source": [
    "### Piccola parentesi di statistica\n",
    "Vediamo alcuni concetti che ci possono servire:\n",
    "* La *media dei valori*, che in numpy si calcola così: `np.average(nome_array)`\n",
    "* La *deviazione standard* che è un parametro che che misura quanto i valori sono concentrati attorno alla media. \n",
    "    Sarebbe il 68% dell'area sotto la Gaussiana e si calcola facendo *la radice quadrata della differenza tra la\n",
    "    media dei quadrati e la media al quadrato*:\n",
    "    \n",
    "    ` m_2 = 1/n(x_1²+x_2²+...+x_n²) `\n",
    "    \n",
    "    `dev_std = sqrt(m_2-m²)`\n",
    "* La *varianza* che è il quadrato della deviazione standard:\n",
    "    ``v=(m_2-m²)``"
   ]
  },
  {
   "cell_type": "code",
   "execution_count": 35,
   "metadata": {},
   "outputs": [
    {
     "data": {
      "text/plain": [
       "array([171, 184, 167, 162, 173, 174, 178, 159])"
      ]
     },
     "execution_count": 35,
     "metadata": {},
     "output_type": "execute_result"
    }
   ],
   "source": [
    "altezze = np.array([171,184,167,162,173,174,178,159])\n",
    "altezze"
   ]
  },
  {
   "cell_type": "code",
   "execution_count": 36,
   "metadata": {},
   "outputs": [
    {
     "data": {
      "text/plain": [
       "171.0"
      ]
     },
     "execution_count": 36,
     "metadata": {},
     "output_type": "execute_result"
    }
   ],
   "source": [
    "media = np.average(altezze)\n",
    "media"
   ]
  },
  {
   "cell_type": "code",
   "execution_count": 44,
   "metadata": {},
   "outputs": [
    {
     "data": {
      "text/plain": [
       "array([29241, 33856, 27889, 26244, 29929, 30276, 31684, 25281])"
      ]
     },
     "execution_count": 44,
     "metadata": {},
     "output_type": "execute_result"
    }
   ],
   "source": [
    "altezze_quadrato = altezze**2\n",
    "altezze_quadrato"
   ]
  },
  {
   "cell_type": "code",
   "execution_count": 45,
   "metadata": {},
   "outputs": [
    {
     "data": {
      "text/plain": [
       "29300.0"
      ]
     },
     "execution_count": 45,
     "metadata": {},
     "output_type": "execute_result"
    }
   ],
   "source": [
    "media_quadrato = np.average(altezze_quadrato)\n",
    "media_quadrato"
   ]
  },
  {
   "cell_type": "code",
   "execution_count": 46,
   "metadata": {},
   "outputs": [
    {
     "data": {
      "text/plain": [
       "7.681145747868608"
      ]
     },
     "execution_count": 46,
     "metadata": {},
     "output_type": "execute_result"
    }
   ],
   "source": [
    "devstd = np.sqrt(media_quadrato-media**2)\n",
    "devstd"
   ]
  },
  {
   "cell_type": "code",
   "execution_count": 47,
   "metadata": {},
   "outputs": [
    {
     "data": {
      "text/plain": [
       "array([184.15901427, 183.71780327, 175.02213192, 170.69129102,\n",
       "       163.40261051, 179.21660225, 166.18119807, 179.03073133,\n",
       "       161.48822036, 169.39015682, 177.02456579, 171.61506681,\n",
       "       178.21560004, 172.30743195, 170.83980436])"
      ]
     },
     "execution_count": 47,
     "metadata": {},
     "output_type": "execute_result"
    }
   ],
   "source": [
    "np.random.normal(media,devstd,15)"
   ]
  },
  {
   "cell_type": "code",
   "execution_count": null,
   "metadata": {},
   "outputs": [],
   "source": []
  }
 ],
 "metadata": {
  "kernelspec": {
   "display_name": "Python 3 (ipykernel)",
   "language": "python",
   "name": "python3"
  },
  "language_info": {
   "codemirror_mode": {
    "name": "ipython",
    "version": 3
   },
   "file_extension": ".py",
   "mimetype": "text/x-python",
   "name": "python",
   "nbconvert_exporter": "python",
   "pygments_lexer": "ipython3",
   "version": "3.8.8"
  }
 },
 "nbformat": 4,
 "nbformat_minor": 4
}
