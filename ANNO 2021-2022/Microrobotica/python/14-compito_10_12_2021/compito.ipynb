{
 "cells": [
  {
   "cell_type": "code",
   "execution_count": 1,
   "id": "e0340948",
   "metadata": {},
   "outputs": [],
   "source": [
    "import numpy as np"
   ]
  },
  {
   "cell_type": "code",
   "execution_count": 2,
   "id": "06659cc4",
   "metadata": {},
   "outputs": [],
   "source": [
    "nome_file1 = \"./richiesta_dati_gg_80749_parte1.csv\"\n",
    "nome_file2 = \"./richiesta_dati_gg_80749_parte2.csv\"\n",
    "nome_file3 = \"./richiesta_dati_gg_80749_parte3.csv\"\n",
    "nome_file4 = \"./richiesta_dati_gg_80749_parte4.csv\""
   ]
  },
  {
   "cell_type": "code",
   "execution_count": 3,
   "id": "37062f46",
   "metadata": {},
   "outputs": [],
   "source": [
    "def estrazione_dati(nome_file, skip_header, skip_footer, usecols, delimiter, missing_value=\"\"):\n",
    "    dati = {}\n",
    "    for chiave, valore in usecols.items():\n",
    "        dati[chiave] = np.array([], dtype=eval(valore))\n",
    "        \n",
    "    with open(nome_file, \"r\") as file:\n",
    "        for riga in file.readlines()[skip_header:-skip_footer]:\n",
    "            dati_riga = riga[:-1].replace(\" \", \"\").split(delimiter)\n",
    "            \n",
    "            if \"\" in dati_riga and missing_value==\"\":\n",
    "                pass\n",
    "            else:\n",
    "                for chiave, valore in usecols.items():\n",
    "                    if dati_riga[chiave] != \"\":\n",
    "                        dati[chiave] = np.append(dati[chiave], eval(valore)(dati_riga[chiave]))\n",
    "                    else:\n",
    "                        if missing_value != \"\":\n",
    "                            dati[chiave] = np.append(dati[chiave], eval(valore)(missing_value))\n",
    "    return dati"
   ]
  },
  {
   "cell_type": "code",
   "execution_count": 4,
   "id": "e5b953f0",
   "metadata": {},
   "outputs": [],
   "source": [
    "dati_temperature_colle = estrazione_dati(nome_file1, 10, 1, {0:'str',1:'str',2:'float', 4:'float', 6:'str',7:'float'}, \",\", \"\")\n",
    "dati_temperature_diga = estrazione_dati(nome_file3, 10, 1, {0:'str',1:'str',2:'float', 4:'float', 6:'str',7:'float'}, \",\", \"\")\n",
    "dati_neve_colle = estrazione_dati(nome_file2, 10, 1, {0:'str',1:'float',2:'float'}, \",\", \"\")\n",
    "dati_neve_diga = estrazione_dati(nome_file4, 10, 1, {0:'str',1:'float',2:'float'}, \",\", \"\")"
   ]
  },
  {
   "cell_type": "code",
   "execution_count": 5,
   "id": "654be42e",
   "metadata": {},
   "outputs": [],
   "source": [
    "date_uguali_temperature = np.intersect1d(dati_temperature_colle[0], dati_temperature_diga[0])\n",
    "date_uguali_neve = np.intersect1d(dati_neve_colle[0], dati_neve_diga[0])\n",
    "date_uguali = np.intersect1d(date_uguali_temperature, date_uguali_neve)"
   ]
  },
  {
   "cell_type": "markdown",
   "id": "59557c1f",
   "metadata": {},
   "source": [
    "-n° di giorni totali senza neve al suolo nelle due stazioni. "
   ]
  },
  {
   "cell_type": "code",
   "execution_count": 6,
   "id": "3db366e9",
   "metadata": {},
   "outputs": [
    {
     "name": "stdout",
     "output_type": "stream",
     "text": [
      "376\n",
      "722\n"
     ]
    },
    {
     "data": {
      "text/plain": [
       "377"
      ]
     },
     "execution_count": 6,
     "metadata": {},
     "output_type": "execute_result"
    }
   ],
   "source": [
    "# STAZIONE COLLE e DIGA\n",
    "n_giorni = 0\n",
    "\n",
    "for date in date_uguali_neve:\n",
    "    i_c = np.where(dati_neve_colle[0] == date)[0][0]\n",
    "    i_d = np.where(dati_neve_diga[0] == date)[0][0]\n",
    "    \n",
    "    if dati_neve_colle[1][i_c] == 0.0 and dati_neve_diga[1][i_d] == 0.0:\n",
    "        n_giorni+=1\n",
    "        \n",
    "print(n_giorni)\n",
    "\n",
    "# STAZIONE COLLE\n",
    "print(np.count_nonzero(dati_neve_colle[1] == 0.0))\n",
    "\n",
    "# STAZIONE DIGA\n",
    "np.count_nonzero(dati_neve_diga[1] == 0.0)"
   ]
  },
  {
   "cell_type": "markdown",
   "id": "3e72da87",
   "metadata": {},
   "source": [
    "-n° di giorni nell'anno 2020 in cui la media delle temperature medie delle due stazioni è minore o uguale a zero. "
   ]
  },
  {
   "cell_type": "code",
   "execution_count": 10,
   "id": "3d8569fb",
   "metadata": {},
   "outputs": [
    {
     "name": "stdout",
     "output_type": "stream",
     "text": [
      "122\n"
     ]
    }
   ],
   "source": [
    "# SOLUZIONE 1\n",
    "\n",
    "n_giorni = 0\n",
    "\n",
    "for date in date_uguali_temperature:\n",
    "    if date.split(\"/\")[2] == \"2020\":\n",
    "        i_c = np.where(dati_temperature_colle[0] == date)[0][0]\n",
    "        i_d = np.where(dati_temperature_diga[0] == date)[0][0]\n",
    "\n",
    "        if (dati_temperature_colle[4][i_c] + dati_temperature_diga[4][i_d])/2 <= 0.0:\n",
    "            n_giorni+=1\n",
    "        \n",
    "print(n_giorni)\n",
    "\n",
    "# SOLUZIONE 2\n",
    "\n",
    "indici_bool_date_uguali_temperature_2020 = np.char.endswith(date_uguali_temperature, \"2020\")\n",
    "date_uguali_temperature_2020 = date_uguali_temperature[indici_bool_date_uguali_temperature_2020]\n",
    "# ..."
   ]
  },
  {
   "cell_type": "markdown",
   "id": "6d3012b8",
   "metadata": {},
   "source": [
    "-n° di giorni nell'anno 2019 in cui c'è neve al suolo e la temperatura media è maggiore di 0°C per entrambe le stazioni."
   ]
  },
  {
   "cell_type": "code",
   "execution_count": 11,
   "id": "94af3299",
   "metadata": {},
   "outputs": [
    {
     "data": {
      "text/plain": [
       "15"
      ]
     },
     "execution_count": 11,
     "metadata": {},
     "output_type": "execute_result"
    }
   ],
   "source": [
    "n_giorni = 0\n",
    "\n",
    "for date in date_uguali:\n",
    "    if date.split(\"/\")[2] == \"2019\":\n",
    "        i_t_c = np.where(dati_temperature_colle[0] == date)[0][0]\n",
    "        i_t_d = np.where(dati_temperature_diga[0] == date)[0][0]\n",
    "        i_n_c = np.where(dati_neve_colle[0] == date)[0][0]\n",
    "        i_n_d = np.where(dati_neve_diga[0] == date)[0][0]\n",
    "    \n",
    "        if dati_neve_colle[1][i_n_c] > 0 and dati_temperature_colle[4][i_t_c] > 0 and dati_neve_diga[1][i_n_d] > 0 and dati_temperature_diga[4][i_t_d]:\n",
    "            n_giorni+=1\n",
    "        \n",
    "n_giorni    "
   ]
  },
  {
   "cell_type": "code",
   "execution_count": null,
   "id": "a63ee369",
   "metadata": {},
   "outputs": [],
   "source": []
  }
 ],
 "metadata": {
  "kernelspec": {
   "display_name": "Python 3 (ipykernel)",
   "language": "python",
   "name": "python3"
  },
  "language_info": {
   "codemirror_mode": {
    "name": "ipython",
    "version": 3
   },
   "file_extension": ".py",
   "mimetype": "text/x-python",
   "name": "python",
   "nbconvert_exporter": "python",
   "pygments_lexer": "ipython3",
   "version": "3.8.8"
  }
 },
 "nbformat": 4,
 "nbformat_minor": 5
}
