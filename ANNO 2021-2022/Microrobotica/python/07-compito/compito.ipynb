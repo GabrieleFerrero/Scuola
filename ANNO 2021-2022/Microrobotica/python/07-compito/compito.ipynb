{
 "cells": [
  {
   "cell_type": "code",
   "execution_count": 9,
   "id": "4c9d9fc3",
   "metadata": {},
   "outputs": [],
   "source": [
    "import numpy as np"
   ]
  },
  {
   "cell_type": "markdown",
   "id": "cd8e850e",
   "metadata": {},
   "source": [
    "### 1) Creare una matrice fatta scacchiera 8x8 alternando 0 e 1 (la prima cella è uno 0) "
   ]
  },
  {
   "cell_type": "code",
   "execution_count": 40,
   "id": "191ea9a4",
   "metadata": {},
   "outputs": [
    {
     "data": {
      "text/plain": [
       "array([[0, 1, 0, 1, 0, 1, 0, 1],\n",
       "       [1, 0, 1, 0, 1, 0, 1, 0],\n",
       "       [0, 1, 0, 1, 0, 1, 0, 1],\n",
       "       [1, 0, 1, 0, 1, 0, 1, 0],\n",
       "       [0, 1, 0, 1, 0, 1, 0, 1],\n",
       "       [1, 0, 1, 0, 1, 0, 1, 0],\n",
       "       [0, 1, 0, 1, 0, 1, 0, 1],\n",
       "       [1, 0, 1, 0, 1, 0, 1, 0]])"
      ]
     },
     "execution_count": 40,
     "metadata": {},
     "output_type": "execute_result"
    }
   ],
   "source": [
    "linea_scacchiera = np.array([x%2 for x in range(8)])\n",
    "scacchiera = np.zeros((8,8), int)\n",
    "\n",
    "for i in range(8):\n",
    "    scacchiera[i] = linea_scacchiera\n",
    "    linea_scacchiera = np.flipud(linea_scacchiera)\n",
    "    \n",
    "scacchiera"
   ]
  },
  {
   "cell_type": "markdown",
   "id": "953dc239",
   "metadata": {},
   "source": [
    "### 2) Considerando l'array: Z = [1,2,3,4,5,6,7,8,9,10,11,12,13,14], generare un array R = [[1,2,3,4], [2,3,4,5], [3,4,5,6], ..., [11,12,13,14]]. "
   ]
  },
  {
   "cell_type": "code",
   "execution_count": 90,
   "id": "f334bf17",
   "metadata": {},
   "outputs": [
    {
     "data": {
      "text/plain": [
       "array([[ 1,  2,  3,  4],\n",
       "       [ 2,  3,  4,  5],\n",
       "       [ 3,  4,  5,  6],\n",
       "       [ 4,  5,  6,  7],\n",
       "       [ 5,  6,  7,  8],\n",
       "       [ 6,  7,  8,  9],\n",
       "       [ 7,  8,  9, 10],\n",
       "       [ 8,  9, 10, 11],\n",
       "       [ 9, 10, 11, 12],\n",
       "       [10, 11, 12, 13],\n",
       "       [11, 12, 13, 14]])"
      ]
     },
     "execution_count": 90,
     "metadata": {},
     "output_type": "execute_result"
    }
   ],
   "source": [
    "Z = np.array([1,2,3,4,5,6,7,8,9,10,11,12,13,14])\n",
    "R = np.array([])\n",
    "\n",
    "for i in range(len(Z)-3):\n",
    "        R = np.append(R, Z[[i,i+1,i+2,i+3]])       \n",
    "\n",
    "R = np.resize(R, (11,4))   \n",
    "R = R.astype(int)\n",
    "R"
   ]
  },
  {
   "cell_type": "markdown",
   "id": "916e622f",
   "metadata": {},
   "source": [
    "### 3) Usando la funzione numpy.random.normal(mean, dev, shape) generare un ndarray che contenga la stima dell'altezza degli alunni della classe. L'ndarray deve avere lunghezza pari al numero di compagni di classe. I valori mean e dev devono essere stimati in modo tale da simulare la distribuzione dell'altezza degli alunni in cm nel modo più realistico possibile."
   ]
  },
  {
   "cell_type": "code",
   "execution_count": 72,
   "id": "cf72aab3",
   "metadata": {},
   "outputs": [
    {
     "data": {
      "text/plain": [
       "array([146, 151, 164, 179, 166, 173, 161, 167, 180, 162, 190, 163, 175,\n",
       "       178, 177])"
      ]
     },
     "execution_count": 72,
     "metadata": {},
     "output_type": "execute_result"
    }
   ],
   "source": [
    "lista_altezze = np.random.normal(170,10, 15)\n",
    "lista_altezze = lista_altezze.astype(int)\n",
    "lista_altezze"
   ]
  },
  {
   "cell_type": "markdown",
   "id": "189b871d",
   "metadata": {},
   "source": [
    "### 4) Creare una matrice fatta come un bersaglio 10x10, le cornici concentriche hanno valori crescenti verso il centro (quella più esterna ha valori = 1)"
   ]
  },
  {
   "cell_type": "code",
   "execution_count": 107,
   "id": "b387a822",
   "metadata": {},
   "outputs": [
    {
     "data": {
      "text/plain": [
       "array([[1, 1, 1, 1, 1, 1, 1, 1, 1, 1],\n",
       "       [1, 2, 2, 2, 2, 2, 2, 2, 2, 1],\n",
       "       [1, 2, 3, 3, 3, 3, 3, 3, 2, 1],\n",
       "       [1, 2, 3, 4, 4, 4, 4, 3, 2, 1],\n",
       "       [1, 2, 3, 4, 5, 5, 4, 3, 2, 1],\n",
       "       [1, 2, 3, 4, 5, 5, 4, 3, 2, 1],\n",
       "       [1, 2, 3, 4, 4, 4, 4, 3, 2, 1],\n",
       "       [1, 2, 3, 3, 3, 3, 3, 3, 2, 1],\n",
       "       [1, 2, 2, 2, 2, 2, 2, 2, 2, 1],\n",
       "       [1, 1, 1, 1, 1, 1, 1, 1, 1, 1]])"
      ]
     },
     "execution_count": 107,
     "metadata": {},
     "output_type": "execute_result"
    }
   ],
   "source": [
    "dim_matrice = 10\n",
    "num = int(dim_matrice/2)\n",
    "matrice = np.zeros((dim_matrice,dim_matrice), int)\n",
    "\n",
    "for i in range(int(dim_matrice/2), dim_matrice):\n",
    "    \n",
    "    matrice[dim_matrice-i-1,:][...] = num\n",
    "    matrice[i,:][...] = num\n",
    "\n",
    "    \n",
    "    matrice[:,dim_matrice-i-1][...] = num\n",
    "    matrice[:,i][...] = num\n",
    "    \n",
    "    \n",
    "    num -= 1\n",
    "    \n",
    "matrice"
   ]
  },
  {
   "cell_type": "code",
   "execution_count": null,
   "id": "618f2dab",
   "metadata": {},
   "outputs": [],
   "source": []
  }
 ],
 "metadata": {
  "kernelspec": {
   "display_name": "Python 3 (ipykernel)",
   "language": "python",
   "name": "python3"
  },
  "language_info": {
   "codemirror_mode": {
    "name": "ipython",
    "version": 3
   },
   "file_extension": ".py",
   "mimetype": "text/x-python",
   "name": "python",
   "nbconvert_exporter": "python",
   "pygments_lexer": "ipython3",
   "version": "3.8.8"
  }
 },
 "nbformat": 4,
 "nbformat_minor": 5
}
