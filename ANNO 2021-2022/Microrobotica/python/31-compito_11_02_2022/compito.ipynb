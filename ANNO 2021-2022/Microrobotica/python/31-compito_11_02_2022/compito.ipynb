{
 "cells": [
  {
   "cell_type": "code",
   "execution_count": 1,
   "id": "9deddc5a",
   "metadata": {},
   "outputs": [],
   "source": [
    "import pandas as pd\n",
    "import matplotlib.pyplot as plt"
   ]
  },
  {
   "cell_type": "markdown",
   "id": "2c3579c2",
   "metadata": {},
   "source": [
    "Scarica il file https://data.nasa.gov/resource/2vr3-k9wn.json . Esso contiene i dati di asteroidi e comete. Crea un notebook in cui:\n",
    "- è creato un dataframe contenente i dati;\n",
    "- è calcolata la media del periodo orbitale (colonna period_yr) per ogni categoria di classe orbitale (la colonna orbit_class);\n",
    "- utilizzando i metodi grafici dei dataframe, è tracciato un grafico a dispersione che rappresenti i valori della colonna moid_au rispetto a quelli di period_yr."
   ]
  },
  {
   "cell_type": "code",
   "execution_count": 2,
   "id": "cd33b7d6",
   "metadata": {},
   "outputs": [
    {
     "data": {
      "text/html": [
       "<div>\n",
       "<style scoped>\n",
       "    .dataframe tbody tr th:only-of-type {\n",
       "        vertical-align: middle;\n",
       "    }\n",
       "\n",
       "    .dataframe tbody tr th {\n",
       "        vertical-align: top;\n",
       "    }\n",
       "\n",
       "    .dataframe thead th {\n",
       "        text-align: right;\n",
       "    }\n",
       "</style>\n",
       "<table border=\"1\" class=\"dataframe\">\n",
       "  <thead>\n",
       "    <tr style=\"text-align: right;\">\n",
       "      <th></th>\n",
       "      <th>designation</th>\n",
       "      <th>discovery_date</th>\n",
       "      <th>h_mag</th>\n",
       "      <th>moid_au</th>\n",
       "      <th>q_au_1</th>\n",
       "      <th>q_au_2</th>\n",
       "      <th>period_yr</th>\n",
       "      <th>i_deg</th>\n",
       "      <th>pha</th>\n",
       "      <th>orbit_class</th>\n",
       "    </tr>\n",
       "  </thead>\n",
       "  <tbody>\n",
       "    <tr>\n",
       "      <th>0</th>\n",
       "      <td>419880 (2011 AH37)</td>\n",
       "      <td>2011-01-07T00:00:00.000</td>\n",
       "      <td>19.7</td>\n",
       "      <td>0.035</td>\n",
       "      <td>0.84</td>\n",
       "      <td>4.26</td>\n",
       "      <td>4.06</td>\n",
       "      <td>9.65</td>\n",
       "      <td>Y</td>\n",
       "      <td>Apollo</td>\n",
       "    </tr>\n",
       "    <tr>\n",
       "      <th>1</th>\n",
       "      <td>419624 (2010 SO16)</td>\n",
       "      <td>2010-09-17T00:00:00.000</td>\n",
       "      <td>20.5</td>\n",
       "      <td>0.028</td>\n",
       "      <td>0.93</td>\n",
       "      <td>1.08</td>\n",
       "      <td>1.00</td>\n",
       "      <td>14.52</td>\n",
       "      <td>Y</td>\n",
       "      <td>Apollo</td>\n",
       "    </tr>\n",
       "    <tr>\n",
       "      <th>2</th>\n",
       "      <td>414772 (2010 OC103)</td>\n",
       "      <td>2010-07-28T00:00:00.000</td>\n",
       "      <td>19.0</td>\n",
       "      <td>0.333</td>\n",
       "      <td>0.39</td>\n",
       "      <td>2.00</td>\n",
       "      <td>1.31</td>\n",
       "      <td>23.11</td>\n",
       "      <td>N</td>\n",
       "      <td>Apollo</td>\n",
       "    </tr>\n",
       "    <tr>\n",
       "      <th>3</th>\n",
       "      <td>414746 (2010 EH20)</td>\n",
       "      <td>2010-03-06T00:00:00.000</td>\n",
       "      <td>18.0</td>\n",
       "      <td>0.268</td>\n",
       "      <td>1.25</td>\n",
       "      <td>3.99</td>\n",
       "      <td>4.24</td>\n",
       "      <td>23.89</td>\n",
       "      <td>N</td>\n",
       "      <td>Amor</td>\n",
       "    </tr>\n",
       "    <tr>\n",
       "      <th>4</th>\n",
       "      <td>407324 (2010 OB101)</td>\n",
       "      <td>2010-07-18T00:00:00.000</td>\n",
       "      <td>20.7</td>\n",
       "      <td>0.111</td>\n",
       "      <td>0.77</td>\n",
       "      <td>2.46</td>\n",
       "      <td>2.06</td>\n",
       "      <td>9.12</td>\n",
       "      <td>N</td>\n",
       "      <td>Apollo</td>\n",
       "    </tr>\n",
       "    <tr>\n",
       "      <th>...</th>\n",
       "      <td>...</td>\n",
       "      <td>...</td>\n",
       "      <td>...</td>\n",
       "      <td>...</td>\n",
       "      <td>...</td>\n",
       "      <td>...</td>\n",
       "      <td>...</td>\n",
       "      <td>...</td>\n",
       "      <td>...</td>\n",
       "      <td>...</td>\n",
       "    </tr>\n",
       "    <tr>\n",
       "      <th>197</th>\n",
       "      <td>(2010 CO1)</td>\n",
       "      <td>2010-02-01T00:00:00.000</td>\n",
       "      <td>21.5</td>\n",
       "      <td>0.023</td>\n",
       "      <td>0.79</td>\n",
       "      <td>1.23</td>\n",
       "      <td>1.02</td>\n",
       "      <td>24.03</td>\n",
       "      <td>Y</td>\n",
       "      <td>Apollo</td>\n",
       "    </tr>\n",
       "    <tr>\n",
       "      <th>198</th>\n",
       "      <td>P/2010 B2 (WISE)</td>\n",
       "      <td>2010-01-22T00:00:00.000</td>\n",
       "      <td>NaN</td>\n",
       "      <td>0.630</td>\n",
       "      <td>1.62</td>\n",
       "      <td>4.60</td>\n",
       "      <td>5.49</td>\n",
       "      <td>8.93</td>\n",
       "      <td>n/a</td>\n",
       "      <td>Encke-type Comet</td>\n",
       "    </tr>\n",
       "    <tr>\n",
       "      <th>199</th>\n",
       "      <td>(2010 AU118)</td>\n",
       "      <td>2010-01-13T00:00:00.000</td>\n",
       "      <td>17.7</td>\n",
       "      <td>0.147</td>\n",
       "      <td>1.13</td>\n",
       "      <td>2.12</td>\n",
       "      <td>2.06</td>\n",
       "      <td>43.73</td>\n",
       "      <td>N</td>\n",
       "      <td>Amor</td>\n",
       "    </tr>\n",
       "    <tr>\n",
       "      <th>200</th>\n",
       "      <td>(2010 AG79)</td>\n",
       "      <td>2010-01-13T00:00:00.000</td>\n",
       "      <td>19.9</td>\n",
       "      <td>0.244</td>\n",
       "      <td>1.22</td>\n",
       "      <td>4.59</td>\n",
       "      <td>4.95</td>\n",
       "      <td>32.96</td>\n",
       "      <td>N</td>\n",
       "      <td>Amor</td>\n",
       "    </tr>\n",
       "    <tr>\n",
       "      <th>201</th>\n",
       "      <td>(2010 AB78)</td>\n",
       "      <td>2010-01-12T00:00:00.000</td>\n",
       "      <td>18.3</td>\n",
       "      <td>0.206</td>\n",
       "      <td>1.02</td>\n",
       "      <td>3.49</td>\n",
       "      <td>3.38</td>\n",
       "      <td>33.26</td>\n",
       "      <td>N</td>\n",
       "      <td>Amor</td>\n",
       "    </tr>\n",
       "  </tbody>\n",
       "</table>\n",
       "<p>202 rows × 10 columns</p>\n",
       "</div>"
      ],
      "text/plain": [
       "             designation           discovery_date  h_mag  moid_au  q_au_1  \\\n",
       "0     419880 (2011 AH37)  2011-01-07T00:00:00.000   19.7    0.035    0.84   \n",
       "1     419624 (2010 SO16)  2010-09-17T00:00:00.000   20.5    0.028    0.93   \n",
       "2    414772 (2010 OC103)  2010-07-28T00:00:00.000   19.0    0.333    0.39   \n",
       "3     414746 (2010 EH20)  2010-03-06T00:00:00.000   18.0    0.268    1.25   \n",
       "4    407324 (2010 OB101)  2010-07-18T00:00:00.000   20.7    0.111    0.77   \n",
       "..                   ...                      ...    ...      ...     ...   \n",
       "197           (2010 CO1)  2010-02-01T00:00:00.000   21.5    0.023    0.79   \n",
       "198     P/2010 B2 (WISE)  2010-01-22T00:00:00.000    NaN    0.630    1.62   \n",
       "199         (2010 AU118)  2010-01-13T00:00:00.000   17.7    0.147    1.13   \n",
       "200          (2010 AG79)  2010-01-13T00:00:00.000   19.9    0.244    1.22   \n",
       "201          (2010 AB78)  2010-01-12T00:00:00.000   18.3    0.206    1.02   \n",
       "\n",
       "     q_au_2  period_yr  i_deg  pha       orbit_class  \n",
       "0      4.26       4.06   9.65    Y            Apollo  \n",
       "1      1.08       1.00  14.52    Y            Apollo  \n",
       "2      2.00       1.31  23.11    N            Apollo  \n",
       "3      3.99       4.24  23.89    N              Amor  \n",
       "4      2.46       2.06   9.12    N            Apollo  \n",
       "..      ...        ...    ...  ...               ...  \n",
       "197    1.23       1.02  24.03    Y            Apollo  \n",
       "198    4.60       5.49   8.93  n/a  Encke-type Comet  \n",
       "199    2.12       2.06  43.73    N              Amor  \n",
       "200    4.59       4.95  32.96    N              Amor  \n",
       "201    3.49       3.38  33.26    N              Amor  \n",
       "\n",
       "[202 rows x 10 columns]"
      ]
     },
     "execution_count": 2,
     "metadata": {},
     "output_type": "execute_result"
    }
   ],
   "source": [
    "df = pd.read_json(\"dati.json\")\n",
    "df"
   ]
  },
  {
   "cell_type": "code",
   "execution_count": 3,
   "id": "013df364",
   "metadata": {},
   "outputs": [
    {
     "name": "stdout",
     "output_type": "stream",
     "text": [
      "<class 'pandas.core.frame.DataFrame'>\n",
      "RangeIndex: 202 entries, 0 to 201\n",
      "Data columns (total 10 columns):\n",
      " #   Column          Non-Null Count  Dtype  \n",
      "---  ------          --------------  -----  \n",
      " 0   designation     202 non-null    object \n",
      " 1   discovery_date  202 non-null    object \n",
      " 2   h_mag           181 non-null    float64\n",
      " 3   moid_au         202 non-null    float64\n",
      " 4   q_au_1          202 non-null    float64\n",
      " 5   q_au_2          200 non-null    float64\n",
      " 6   period_yr       200 non-null    float64\n",
      " 7   i_deg           202 non-null    float64\n",
      " 8   pha             202 non-null    object \n",
      " 9   orbit_class     202 non-null    object \n",
      "dtypes: float64(6), object(4)\n",
      "memory usage: 15.9+ KB\n"
     ]
    }
   ],
   "source": [
    "df.info()"
   ]
  },
  {
   "cell_type": "code",
   "execution_count": 4,
   "id": "bf508b78",
   "metadata": {},
   "outputs": [
    {
     "data": {
      "text/html": [
       "<div>\n",
       "<style scoped>\n",
       "    .dataframe tbody tr th:only-of-type {\n",
       "        vertical-align: middle;\n",
       "    }\n",
       "\n",
       "    .dataframe tbody tr th {\n",
       "        vertical-align: top;\n",
       "    }\n",
       "\n",
       "    .dataframe thead th {\n",
       "        text-align: right;\n",
       "    }\n",
       "</style>\n",
       "<table border=\"1\" class=\"dataframe\">\n",
       "  <thead>\n",
       "    <tr style=\"text-align: right;\">\n",
       "      <th></th>\n",
       "      <th>period_yr</th>\n",
       "    </tr>\n",
       "    <tr>\n",
       "      <th>orbit_class</th>\n",
       "      <th></th>\n",
       "    </tr>\n",
       "  </thead>\n",
       "  <tbody>\n",
       "    <tr>\n",
       "      <th>Amor</th>\n",
       "      <td>5.235082</td>\n",
       "    </tr>\n",
       "    <tr>\n",
       "      <th>Apollo</th>\n",
       "      <td>2.941143</td>\n",
       "    </tr>\n",
       "    <tr>\n",
       "      <th>Aten</th>\n",
       "      <td>0.891333</td>\n",
       "    </tr>\n",
       "    <tr>\n",
       "      <th>Comet</th>\n",
       "      <td>238220.625556</td>\n",
       "    </tr>\n",
       "    <tr>\n",
       "      <th>Encke-type Comet</th>\n",
       "      <td>5.490000</td>\n",
       "    </tr>\n",
       "    <tr>\n",
       "      <th>Halley-type Comet*</th>\n",
       "      <td>23.375000</td>\n",
       "    </tr>\n",
       "    <tr>\n",
       "      <th>Jupiter-family Comet</th>\n",
       "      <td>8.380000</td>\n",
       "    </tr>\n",
       "    <tr>\n",
       "      <th>Jupiter-family Comet*</th>\n",
       "      <td>17.300000</td>\n",
       "    </tr>\n",
       "    <tr>\n",
       "      <th>Parabolic Comet</th>\n",
       "      <td>NaN</td>\n",
       "    </tr>\n",
       "  </tbody>\n",
       "</table>\n",
       "</div>"
      ],
      "text/plain": [
       "                           period_yr\n",
       "orbit_class                         \n",
       "Amor                        5.235082\n",
       "Apollo                      2.941143\n",
       "Aten                        0.891333\n",
       "Comet                  238220.625556\n",
       "Encke-type Comet            5.490000\n",
       "Halley-type Comet*         23.375000\n",
       "Jupiter-family Comet        8.380000\n",
       "Jupiter-family Comet*      17.300000\n",
       "Parabolic Comet                  NaN"
      ]
     },
     "execution_count": 4,
     "metadata": {},
     "output_type": "execute_result"
    }
   ],
   "source": [
    "df[[\"orbit_class\",\"period_yr\"]].groupby(\"orbit_class\").mean()"
   ]
  },
  {
   "cell_type": "code",
   "execution_count": 5,
   "id": "b172298f",
   "metadata": {},
   "outputs": [
    {
     "name": "stdout",
     "output_type": "stream",
     "text": [
      "<class 'pandas.core.frame.DataFrame'>\n",
      "Int64Index: 181 entries, 0 to 201\n",
      "Data columns (total 10 columns):\n",
      " #   Column          Non-Null Count  Dtype  \n",
      "---  ------          --------------  -----  \n",
      " 0   designation     181 non-null    object \n",
      " 1   discovery_date  181 non-null    object \n",
      " 2   h_mag           181 non-null    float64\n",
      " 3   moid_au         181 non-null    float64\n",
      " 4   q_au_1          181 non-null    float64\n",
      " 5   q_au_2          181 non-null    float64\n",
      " 6   period_yr       181 non-null    float64\n",
      " 7   i_deg           181 non-null    float64\n",
      " 8   pha             181 non-null    object \n",
      " 9   orbit_class     181 non-null    object \n",
      "dtypes: float64(6), object(4)\n",
      "memory usage: 15.6+ KB\n"
     ]
    }
   ],
   "source": [
    "df.dropna(inplace=True)\n",
    "df.info()"
   ]
  },
  {
   "cell_type": "code",
   "execution_count": 6,
   "id": "96440b3b",
   "metadata": {},
   "outputs": [
    {
     "data": {
      "text/plain": [
       "<AxesSubplot:xlabel='discovery_date', ylabel='period_yr'>"
      ]
     },
     "execution_count": 6,
     "metadata": {},
     "output_type": "execute_result"
    },
    {
     "data": {
      "image/png": "[encoded data removed]",
      "text/plain": [
       "<Figure size 1440x1440 with 1 Axes>"
      ]
     },
     "metadata": {
      "needs_background": "light"
     },
     "output_type": "display_data"
    }
   ],
   "source": [
    "ax = df.plot(kind='scatter', x='discovery_date', y='moid_au', color='r', figsize=(20,20), legend=True, label='moid_au', fontsize=10)    \n",
    "df.plot(kind='scatter', x='discovery_date', y='period_yr', color='g', ax=ax, label='period_yr') "
   ]
  },
  {
   "cell_type": "code",
   "execution_count": 10,
   "id": "4d0a8c98",
   "metadata": {},
   "outputs": [
    {
     "data": {
      "image/png": "[encoded data removed]",
      "text/plain": [
       "<Figure size 576x576 with 1 Axes>"
      ]
     },
     "metadata": {
      "needs_background": "light"
     },
     "output_type": "display_data"
    }
   ],
   "source": [
    "# OPPURE\n",
    "\n",
    "fig,ax = plt.subplots(figsize=(8,8))\n",
    "df.plot.scatter(x=\"period_yr\", y=\"moid_au\", ax=ax)\n",
    "#ax.scatter(df[\"period_yr\"], df[\"moid_au\"])\n",
    "plt.show()"
   ]
  },
  {
   "cell_type": "code",
   "execution_count": null,
   "id": "3cac7049",
   "metadata": {},
   "outputs": [],
   "source": []
  }
 ],
 "metadata": {
  "kernelspec": {
   "display_name": "Python 3 (ipykernel)",
   "language": "python",
   "name": "python3"
  },
  "language_info": {
   "codemirror_mode": {
    "name": "ipython",
    "version": 3
   },
   "file_extension": ".py",
   "mimetype": "text/x-python",
   "name": "python",
   "nbconvert_exporter": "python",
   "pygments_lexer": "ipython3",
   "version": "3.8.8"
  }
 },
 "nbformat": 4,
 "nbformat_minor": 5
}
