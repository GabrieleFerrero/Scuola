{
 "cells": [
  {
   "cell_type": "markdown",
   "id": "5788d3df",
   "metadata": {},
   "source": [
    "Scarica il file marziani.csv, gia usato nel capitolo 9. Addestra una foresta casuale alla classificazione dei marziani Robby e Simmy:\n",
    "- traccia un grafico dell’accuratezza della classificazione rispetto alla profondità massima degli alberi decisionali utilizzati e stima il valore ottimale per il parametro max_depth"
   ]
  },
  {
   "cell_type": "code",
   "execution_count": 2,
   "id": "edf6d99b",
   "metadata": {},
   "outputs": [],
   "source": [
    "import pandas as pd\n",
    "import matplotlib.pyplot as plt\n",
    "from sklearn import tree\n",
    "import numpy as np\n",
    "from sklearn.model_selection import train_test_split\n",
    "from sklearn.ensemble import RandomForestClassifier"
   ]
  },
  {
   "cell_type": "code",
   "execution_count": 3,
   "id": "8070fb91",
   "metadata": {},
   "outputs": [
    {
     "data": {
      "text/html": [
       "<div>\n",
       "<style scoped>\n",
       "    .dataframe tbody tr th:only-of-type {\n",
       "        vertical-align: middle;\n",
       "    }\n",
       "\n",
       "    .dataframe tbody tr th {\n",
       "        vertical-align: top;\n",
       "    }\n",
       "\n",
       "    .dataframe thead th {\n",
       "        text-align: right;\n",
       "    }\n",
       "</style>\n",
       "<table border=\"1\" class=\"dataframe\">\n",
       "  <thead>\n",
       "    <tr style=\"text-align: right;\">\n",
       "      <th></th>\n",
       "      <th>specie</th>\n",
       "      <th>colore</th>\n",
       "      <th>n_arti</th>\n",
       "      <th>peso</th>\n",
       "      <th>altezza</th>\n",
       "      <th>larghezza</th>\n",
       "    </tr>\n",
       "  </thead>\n",
       "  <tbody>\n",
       "    <tr>\n",
       "      <th>0</th>\n",
       "      <td>Robby</td>\n",
       "      <td>viola</td>\n",
       "      <td>20.0</td>\n",
       "      <td>3.87</td>\n",
       "      <td>14.77</td>\n",
       "      <td>73.22</td>\n",
       "    </tr>\n",
       "    <tr>\n",
       "      <th>1</th>\n",
       "      <td>Robby</td>\n",
       "      <td>viola</td>\n",
       "      <td>27.0</td>\n",
       "      <td>3.15</td>\n",
       "      <td>28.19</td>\n",
       "      <td>88.44</td>\n",
       "    </tr>\n",
       "    <tr>\n",
       "      <th>2</th>\n",
       "      <td>Robby</td>\n",
       "      <td>viola</td>\n",
       "      <td>25.0</td>\n",
       "      <td>4.35</td>\n",
       "      <td>12.05</td>\n",
       "      <td>76.74</td>\n",
       "    </tr>\n",
       "    <tr>\n",
       "      <th>3</th>\n",
       "      <td>Robby</td>\n",
       "      <td>blu</td>\n",
       "      <td>20.0</td>\n",
       "      <td>3.76</td>\n",
       "      <td>9.90</td>\n",
       "      <td>81.37</td>\n",
       "    </tr>\n",
       "    <tr>\n",
       "      <th>4</th>\n",
       "      <td>Robby</td>\n",
       "      <td>blu</td>\n",
       "      <td>28.0</td>\n",
       "      <td>2.86</td>\n",
       "      <td>19.87</td>\n",
       "      <td>84.65</td>\n",
       "    </tr>\n",
       "    <tr>\n",
       "      <th>...</th>\n",
       "      <td>...</td>\n",
       "      <td>...</td>\n",
       "      <td>...</td>\n",
       "      <td>...</td>\n",
       "      <td>...</td>\n",
       "      <td>...</td>\n",
       "    </tr>\n",
       "    <tr>\n",
       "      <th>1995</th>\n",
       "      <td>Simmy</td>\n",
       "      <td>viola</td>\n",
       "      <td>29.0</td>\n",
       "      <td>4.55</td>\n",
       "      <td>35.48</td>\n",
       "      <td>68.47</td>\n",
       "    </tr>\n",
       "    <tr>\n",
       "      <th>1996</th>\n",
       "      <td>Simmy</td>\n",
       "      <td>blu</td>\n",
       "      <td>23.0</td>\n",
       "      <td>3.84</td>\n",
       "      <td>29.86</td>\n",
       "      <td>71.51</td>\n",
       "    </tr>\n",
       "    <tr>\n",
       "      <th>1997</th>\n",
       "      <td>Simmy</td>\n",
       "      <td>viola</td>\n",
       "      <td>22.0</td>\n",
       "      <td>4.55</td>\n",
       "      <td>29.41</td>\n",
       "      <td>68.38</td>\n",
       "    </tr>\n",
       "    <tr>\n",
       "      <th>1998</th>\n",
       "      <td>Simmy</td>\n",
       "      <td>rosso</td>\n",
       "      <td>27.0</td>\n",
       "      <td>4.53</td>\n",
       "      <td>33.12</td>\n",
       "      <td>68.10</td>\n",
       "    </tr>\n",
       "    <tr>\n",
       "      <th>1999</th>\n",
       "      <td>Simmy</td>\n",
       "      <td>viola</td>\n",
       "      <td>23.0</td>\n",
       "      <td>5.10</td>\n",
       "      <td>18.88</td>\n",
       "      <td>64.95</td>\n",
       "    </tr>\n",
       "  </tbody>\n",
       "</table>\n",
       "<p>2000 rows × 6 columns</p>\n",
       "</div>"
      ],
      "text/plain": [
       "     specie colore  n_arti  peso  altezza  larghezza\n",
       "0     Robby  viola    20.0  3.87    14.77      73.22\n",
       "1     Robby  viola    27.0  3.15    28.19      88.44\n",
       "2     Robby  viola    25.0  4.35    12.05      76.74\n",
       "3     Robby    blu    20.0  3.76     9.90      81.37\n",
       "4     Robby    blu    28.0  2.86    19.87      84.65\n",
       "...     ...    ...     ...   ...      ...        ...\n",
       "1995  Simmy  viola    29.0  4.55    35.48      68.47\n",
       "1996  Simmy    blu    23.0  3.84    29.86      71.51\n",
       "1997  Simmy  viola    22.0  4.55    29.41      68.38\n",
       "1998  Simmy  rosso    27.0  4.53    33.12      68.10\n",
       "1999  Simmy  viola    23.0  5.10    18.88      64.95\n",
       "\n",
       "[2000 rows x 6 columns]"
      ]
     },
     "execution_count": 3,
     "metadata": {},
     "output_type": "execute_result"
    }
   ],
   "source": [
    "data = pd.read_csv(\"./marziani.csv\")\n",
    "data"
   ]
  },
  {
   "cell_type": "code",
   "execution_count": 4,
   "id": "52579c7c",
   "metadata": {},
   "outputs": [
    {
     "name": "stdout",
     "output_type": "stream",
     "text": [
      "<class 'pandas.core.frame.DataFrame'>\n",
      "RangeIndex: 2000 entries, 0 to 1999\n",
      "Data columns (total 6 columns):\n",
      " #   Column     Non-Null Count  Dtype  \n",
      "---  ------     --------------  -----  \n",
      " 0   specie     2000 non-null   object \n",
      " 1   colore     1993 non-null   object \n",
      " 2   n_arti     1994 non-null   float64\n",
      " 3   peso       2000 non-null   float64\n",
      " 4   altezza    1995 non-null   float64\n",
      " 5   larghezza  1997 non-null   float64\n",
      "dtypes: float64(4), object(2)\n",
      "memory usage: 93.9+ KB\n"
     ]
    }
   ],
   "source": [
    "data.info()"
   ]
  },
  {
   "cell_type": "code",
   "execution_count": 7,
   "id": "c3063bee",
   "metadata": {},
   "outputs": [],
   "source": [
    "features = [\"peso\",\"altezza\",\"larghezza\"]"
   ]
  },
  {
   "cell_type": "code",
   "execution_count": 8,
   "id": "ab8c7cd0",
   "metadata": {},
   "outputs": [],
   "source": [
    "data.dropna(inplace=True, subset=features+[\"specie\"])"
   ]
  },
  {
   "cell_type": "code",
   "execution_count": 9,
   "id": "4d2b92fd",
   "metadata": {},
   "outputs": [
    {
     "name": "stdout",
     "output_type": "stream",
     "text": [
      "<class 'pandas.core.frame.DataFrame'>\n",
      "Int64Index: 1992 entries, 0 to 1999\n",
      "Data columns (total 6 columns):\n",
      " #   Column     Non-Null Count  Dtype  \n",
      "---  ------     --------------  -----  \n",
      " 0   specie     1992 non-null   object \n",
      " 1   colore     1985 non-null   object \n",
      " 2   n_arti     1986 non-null   float64\n",
      " 3   peso       1992 non-null   float64\n",
      " 4   altezza    1992 non-null   float64\n",
      " 5   larghezza  1992 non-null   float64\n",
      "dtypes: float64(4), object(2)\n",
      "memory usage: 108.9+ KB\n"
     ]
    }
   ],
   "source": [
    "data.info()"
   ]
  },
  {
   "cell_type": "code",
   "execution_count": 11,
   "id": "eeeba38b",
   "metadata": {},
   "outputs": [],
   "source": [
    "X = data[features].values\n",
    "y = data[\"specie\"]"
   ]
  },
  {
   "cell_type": "code",
   "execution_count": 14,
   "id": "4c4502e6",
   "metadata": {},
   "outputs": [
    {
     "data": {
      "image/png": "[encoded data removed]",
      "text/plain": [
       "<Figure size 720x720 with 1 Axes>"
      ]
     },
     "metadata": {
      "needs_background": "light"
     },
     "output_type": "display_data"
    }
   ],
   "source": [
    "accs_train = []\n",
    "accs_test = []\n",
    "\n",
    "for i in range(1,20):\n",
    "    X_train, X_test, y_train, y_test = train_test_split(X,y,train_size=0.7)\n",
    "    foresta = RandomForestClassifier(max_depth=i, n_estimators=100)\n",
    "    foresta.fit(X_train, y_train)\n",
    "    accs_train.append(foresta.score(X_train, y_train))\n",
    "    accs_test.append(foresta.score(X_test, y_test))\n",
    "    \n",
    "\n",
    "fig, ax = plt.subplots(figsize=(10,10))\n",
    "ax.plot(accs_train, label=\"Accuratezza train\")\n",
    "ax.plot(accs_test, label=\"Accuratezza test\")\n",
    "ax.legend()\n",
    "ax.grid()\n",
    "plt.show()"
   ]
  },
  {
   "cell_type": "code",
   "execution_count": 15,
   "id": "c4281d22",
   "metadata": {},
   "outputs": [
    {
     "data": {
      "text/plain": [
       "array([0.96655518, 0.97157191, 0.98160535, 0.98494983, 0.97826087,\n",
       "       0.97993311, 0.97826087, 0.96655518, 0.96822742, 0.98494983,\n",
       "       0.98327759, 0.98494983, 0.97658863, 0.98160535, 0.97658863,\n",
       "       0.98494983, 0.98327759, 0.97826087, 0.97324415])"
      ]
     },
     "execution_count": 15,
     "metadata": {},
     "output_type": "execute_result"
    }
   ],
   "source": [
    "accs_test = np.array(accs_test)\n",
    "accs_test"
   ]
  },
  {
   "cell_type": "code",
   "execution_count": 18,
   "id": "9cbc203b",
   "metadata": {},
   "outputs": [
    {
     "data": {
      "text/plain": [
       "0.9849498327759197"
      ]
     },
     "execution_count": 18,
     "metadata": {},
     "output_type": "execute_result"
    }
   ],
   "source": [
    "max_acc = accs_test.max()\n",
    "max_acc"
   ]
  },
  {
   "cell_type": "code",
   "execution_count": 23,
   "id": "9faf27fc",
   "metadata": {},
   "outputs": [
    {
     "data": {
      "text/plain": [
       "array([ 3,  9, 11, 15])"
      ]
     },
     "execution_count": 23,
     "metadata": {},
     "output_type": "execute_result"
    }
   ],
   "source": [
    "np.where(accs_test == max_acc)[0]"
   ]
  },
  {
   "cell_type": "code",
   "execution_count": null,
   "id": "1e927d61",
   "metadata": {},
   "outputs": [],
   "source": []
  }
 ],
 "metadata": {
  "kernelspec": {
   "display_name": "Python 3 (ipykernel)",
   "language": "python",
   "name": "python3"
  },
  "language_info": {
   "codemirror_mode": {
    "name": "ipython",
    "version": 3
   },
   "file_extension": ".py",
   "mimetype": "text/x-python",
   "name": "python",
   "nbconvert_exporter": "python",
   "pygments_lexer": "ipython3",
   "version": "3.8.8"
  }
 },
 "nbformat": 4,
 "nbformat_minor": 5
}
