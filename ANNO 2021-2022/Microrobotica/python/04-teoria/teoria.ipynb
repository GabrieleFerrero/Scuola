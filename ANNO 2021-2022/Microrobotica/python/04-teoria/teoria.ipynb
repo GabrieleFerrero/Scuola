{
 "cells": [
  {
   "cell_type": "code",
   "execution_count": 37,
   "id": "96690c25",
   "metadata": {},
   "outputs": [],
   "source": [
    "import numpy as np"
   ]
  },
  {
   "cell_type": "markdown",
   "id": "6beaff81",
   "metadata": {},
   "source": [
    "### CONVERTIRE UNA LISTA IN ARRAY NUMPY"
   ]
  },
  {
   "cell_type": "code",
   "execution_count": 38,
   "id": "9105d29c",
   "metadata": {},
   "outputs": [
    {
     "name": "stdout",
     "output_type": "stream",
     "text": [
      "[1 2 3 4 5 6]\n"
     ]
    }
   ],
   "source": [
    "lista  = [1,2,3,4,5,6]\n",
    "lista_array = np.array(lista)\n",
    "print(lista_array)"
   ]
  },
  {
   "cell_type": "markdown",
   "id": "1e28a3eb",
   "metadata": {},
   "source": [
    "### CREAZIONE ARRAY DI INTERI CONTENENTI 0"
   ]
  },
  {
   "cell_type": "code",
   "execution_count": 39,
   "id": "370978f7",
   "metadata": {},
   "outputs": [
    {
     "name": "stderr",
     "output_type": "stream",
     "text": [
      "<ipython-input-39-27809ce09c4d>:1: DeprecationWarning: `np.int` is a deprecated alias for the builtin `int`. To silence this warning, use `int` by itself. Doing this will not modify any behavior and is safe. When replacing `np.int`, you may wish to use e.g. `np.int64` or `np.int32` to specify the precision. If you wish to review your current use, check the release note link for additional information.\n",
      "Deprecated in NumPy 1.20; for more details and guidance: https://numpy.org/devdocs/release/1.20.0-notes.html#deprecations\n",
      "  np.zeros(10, dtype=np.int)  # il dype può anche essere int (tipo di python)\n"
     ]
    },
    {
     "data": {
      "text/plain": [
       "array([0, 0, 0, 0, 0, 0, 0, 0, 0, 0])"
      ]
     },
     "execution_count": 39,
     "metadata": {},
     "output_type": "execute_result"
    }
   ],
   "source": [
    "np.zeros(10, dtype=np.int)  # il dype può anche essere int (tipo di python)"
   ]
  },
  {
   "cell_type": "markdown",
   "id": "ab67bb14",
   "metadata": {},
   "source": [
    "### CREAZIONE MATRICE DI INTERI CONTENENTI 0"
   ]
  },
  {
   "cell_type": "code",
   "execution_count": 40,
   "id": "5baf0b00",
   "metadata": {},
   "outputs": [
    {
     "name": "stderr",
     "output_type": "stream",
     "text": [
      "<ipython-input-40-a9efce7bcf5e>:1: DeprecationWarning: `np.int` is a deprecated alias for the builtin `int`. To silence this warning, use `int` by itself. Doing this will not modify any behavior and is safe. When replacing `np.int`, you may wish to use e.g. `np.int64` or `np.int32` to specify the precision. If you wish to review your current use, check the release note link for additional information.\n",
      "Deprecated in NumPy 1.20; for more details and guidance: https://numpy.org/devdocs/release/1.20.0-notes.html#deprecations\n",
      "  np.zeros((5,10), dtype=np.int)\n"
     ]
    },
    {
     "data": {
      "text/plain": [
       "array([[0, 0, 0, 0, 0, 0, 0, 0, 0, 0],\n",
       "       [0, 0, 0, 0, 0, 0, 0, 0, 0, 0],\n",
       "       [0, 0, 0, 0, 0, 0, 0, 0, 0, 0],\n",
       "       [0, 0, 0, 0, 0, 0, 0, 0, 0, 0],\n",
       "       [0, 0, 0, 0, 0, 0, 0, 0, 0, 0]])"
      ]
     },
     "execution_count": 40,
     "metadata": {},
     "output_type": "execute_result"
    }
   ],
   "source": [
    "np.zeros((5,10), dtype=np.int)"
   ]
  },
  {
   "cell_type": "markdown",
   "id": "34af4472",
   "metadata": {},
   "source": [
    "### NUMERI CASUALI\n",
    "\n",
    "Apprfondimento:\n",
    "i \"\"numeri pseudocasuali\"\" sono numeri che sembrano casuali ma sono generati da un algoritmo deterministico,\n",
    "infatti nella funzione che genera questi numeri si passa anche un seme (ovvero un valore di partenza).\n",
    "\n",
    "Una probabilità si dice uniforme se ogni caso ha la stessa probabilità di uscire (tipo un dado).\n",
    "\n",
    "Per estrarre un numero uniforme si fa:"
   ]
  },
  {
   "cell_type": "code",
   "execution_count": 41,
   "id": "f24c04d7",
   "metadata": {},
   "outputs": [
    {
     "data": {
      "text/plain": [
       "0.41430104801600987"
      ]
     },
     "execution_count": 41,
     "metadata": {},
     "output_type": "execute_result"
    }
   ],
   "source": [
    "np.random.uniform()"
   ]
  },
  {
   "cell_type": "code",
   "execution_count": 42,
   "id": "42af4f48",
   "metadata": {},
   "outputs": [
    {
     "data": {
      "text/plain": [
       "array([0.50351068, 0.44101916, 0.93089299, 0.31168753, 0.03719034,\n",
       "       0.12307206, 0.77382942, 0.85968793, 0.93228854, 0.21003721,\n",
       "       0.24838483, 0.12952423, 0.46200453, 0.62402597, 0.35859236,\n",
       "       0.91128213, 0.3291085 , 0.35558321, 0.94990525, 0.34119589,\n",
       "       0.74516054, 0.90463689, 0.77738632, 0.14825222, 0.39931785,\n",
       "       0.63413389, 0.5208676 , 0.06808148, 0.11403935, 0.78790769,\n",
       "       0.95061348, 0.07973281, 0.96453921, 0.70431089, 0.89988528,\n",
       "       0.71162755, 0.42124139, 0.62166735, 0.5045858 , 0.72584955,\n",
       "       0.61916298, 0.7262708 , 0.43771148, 0.11463047, 0.15171398,\n",
       "       0.66287993, 0.00989454, 0.52928205, 0.61713329, 0.56458303,\n",
       "       0.13798055, 0.39956301, 0.92815987, 0.74593939, 0.62964055,\n",
       "       0.33021601, 0.31387743, 0.84546544, 0.61912266, 0.4696066 ,\n",
       "       0.05475632, 0.32901503, 0.66630669, 0.50710609, 0.83387179,\n",
       "       0.61061604, 0.91180982, 0.76284068, 0.96219115, 0.32657741,\n",
       "       0.76953995, 0.72603797, 0.97393123, 0.05048845, 0.01288407,\n",
       "       0.27772076, 0.90033995, 0.63290062, 0.02015653, 0.89939617,\n",
       "       0.35127566, 0.26785235, 0.15292033, 0.12136532, 0.53044268,\n",
       "       0.45367392, 0.36813546, 0.62568608, 0.62439902, 0.28388308,\n",
       "       0.26008827, 0.78190877, 0.17224164, 0.33886456, 0.88006962,\n",
       "       0.40262904, 0.06026751, 0.59819188, 0.8049326 , 0.27690138])"
      ]
     },
     "execution_count": 42,
     "metadata": {},
     "output_type": "execute_result"
    }
   ],
   "source": [
    "np.random.uniform(size=100) # con size gli dico di creare un lista di numeri uniformi lunga n"
   ]
  },
  {
   "cell_type": "markdown",
   "id": "0f82ffad",
   "metadata": {},
   "source": [
    "Una distribuzione molto usata è quella GAUSSIANA (anche detta a campana o normale).\n",
    "\n",
    "Con il parametro loc indico: il valore centrale (punto di massimo della funzione gaussiana)\n",
    "Con il parametro scale indico: quanto è larga la funzione gaussiana"
   ]
  },
  {
   "cell_type": "code",
   "execution_count": 43,
   "id": "7af47e2a",
   "metadata": {},
   "outputs": [
    {
     "data": {
      "text/plain": [
       "array([ 8.79551837, 11.37374828, 10.37007577, 11.38772372, 10.16530717,\n",
       "       11.5085432 ,  9.86461643,  8.51451032,  9.58731776, 10.4565111 ])"
      ]
     },
     "execution_count": 43,
     "metadata": {},
     "output_type": "execute_result"
    }
   ],
   "source": [
    "np.random.normal(loc=10, scale=1, size=10)"
   ]
  },
  {
   "cell_type": "code",
   "execution_count": 44,
   "id": "5b555b34",
   "metadata": {},
   "outputs": [
    {
     "name": "stderr",
     "output_type": "stream",
     "text": [
      "<ipython-input-44-f96cbd8631eb>:3: DeprecationWarning: This function is deprecated. Please call randint(1, 7 + 1) instead\n",
      "  np.random.random_integers(low=1, high=7, size=10)\n"
     ]
    },
    {
     "data": {
      "text/plain": [
       "array([1, 6, 3, 4, 5, 2, 3, 1, 1, 6])"
      ]
     },
     "execution_count": 44,
     "metadata": {},
     "output_type": "execute_result"
    }
   ],
   "source": [
    "# RANDOM_INTEGERS --> SERVE PER ESTRARE DEI NUMERI INTERI CASUALI [low,high)\n",
    "\n",
    "np.random.random_integers(low=1, high=7, size=10) \n",
    "# è la simulazione di 10 lanci di un dato\n",
    "# si può anche usare np.random.randint()"
   ]
  },
  {
   "cell_type": "code",
   "execution_count": 45,
   "id": "0edcabc6",
   "metadata": {},
   "outputs": [
    {
     "data": {
      "text/plain": [
       "array(['testa', 'croce', 'croce', 'testa', 'testa', 'testa', 'croce',\n",
       "       'croce', 'testa', 'croce'], dtype='<U5')"
      ]
     },
     "execution_count": 45,
     "metadata": {},
     "output_type": "execute_result"
    }
   ],
   "source": [
    "np.random.choice([\"testa\", \"croce\"], size=10)"
   ]
  },
  {
   "cell_type": "markdown",
   "id": "80cd2158",
   "metadata": {},
   "source": [
    "Dimensioni spaziali che servono per rappresentare gli array si utilizzano degli assi standard:\n",
    "- l'array 1D si chiama asse0 (axis0)\n",
    "- l'array 2D ha l'asse 0 quello delle righe e l'asse 1 quello delle colonne\n",
    "- l'array 3D è uguale al 2D con l'asse 2 che è la profondità."
   ]
  },
  {
   "cell_type": "code",
   "execution_count": 46,
   "id": "330a50bf",
   "metadata": {},
   "outputs": [
    {
     "data": {
      "text/plain": [
       "array([[0.39092684, 0.4374071 , 0.38091043, 0.52821836, 0.17929586],\n",
       "       [0.83672189, 0.17376379, 0.56544659, 0.51575429, 0.06279393],\n",
       "       [0.2199303 , 0.70035978, 0.73648422, 0.92254979, 0.86493638],\n",
       "       [0.02234078, 0.27515489, 0.37678225, 0.1974602 , 0.16107683]])"
      ]
     },
     "execution_count": 46,
     "metadata": {},
     "output_type": "execute_result"
    }
   ],
   "source": [
    "matrice = np.random.uniform(size=(4,5))\n",
    "matrice"
   ]
  },
  {
   "cell_type": "code",
   "execution_count": 47,
   "id": "334b667a",
   "metadata": {},
   "outputs": [
    {
     "data": {
      "text/plain": [
       "(4, 5)"
      ]
     },
     "execution_count": 47,
     "metadata": {},
     "output_type": "execute_result"
    }
   ],
   "source": [
    "# SHAPE --> SERVE PER RITORNARE IL NUMERO DI RIGHE E COLONNE DI UN OGGETTO NUMPY (1D,2D,ecc...)\n",
    "\n",
    "np.shape(matrice)"
   ]
  },
  {
   "cell_type": "code",
   "execution_count": 48,
   "id": "af456d87",
   "metadata": {},
   "outputs": [
    {
     "data": {
      "text/plain": [
       "array([0.9566392 , 0.86473183, 0.55640593, 0.93001845, 0.19408806,\n",
       "       0.72891134, 0.93433326, 0.1528832 , 0.34665837, 0.68018083])"
      ]
     },
     "execution_count": 48,
     "metadata": {},
     "output_type": "execute_result"
    }
   ],
   "source": [
    "vettore = np.random.uniform(size=10)\n",
    "vettore"
   ]
  },
  {
   "cell_type": "code",
   "execution_count": 49,
   "id": "3ccf4487",
   "metadata": {},
   "outputs": [
    {
     "data": {
      "text/plain": [
       "(10,)"
      ]
     },
     "execution_count": 49,
     "metadata": {},
     "output_type": "execute_result"
    }
   ],
   "source": [
    "np.shape(vettore)"
   ]
  },
  {
   "cell_type": "markdown",
   "id": "4f8906f4",
   "metadata": {},
   "source": [
    "### FUNZIONI UTILI"
   ]
  },
  {
   "cell_type": "code",
   "execution_count": 50,
   "id": "20d478e7",
   "metadata": {},
   "outputs": [
    {
     "data": {
      "text/plain": [
       "array([0.39092684, 0.4374071 , 0.38091043, 0.52821836, 0.17929586,\n",
       "       0.83672189, 0.17376379, 0.56544659, 0.51575429, 0.06279393,\n",
       "       0.2199303 , 0.70035978, 0.73648422, 0.92254979, 0.86493638,\n",
       "       0.02234078, 0.27515489, 0.37678225, 0.1974602 , 0.16107683])"
      ]
     },
     "execution_count": 50,
     "metadata": {},
     "output_type": "execute_result"
    }
   ],
   "source": [
    "# RAVEL --> PERMETTE DI TRASFORMARE MATRICI IN ARRAY, ACCODANDO RIGA PER RIGA\n",
    "\n",
    "matrice1 = np.ravel(matrice)\n",
    "matrice1"
   ]
  },
  {
   "cell_type": "code",
   "execution_count": 51,
   "id": "c62650ec",
   "metadata": {},
   "outputs": [
    {
     "data": {
      "text/plain": [
       "0.43740710118906867"
      ]
     },
     "execution_count": 51,
     "metadata": {},
     "output_type": "execute_result"
    }
   ],
   "source": [
    "# per accedere a degli elementi di un oggetto numpy (1D,2D,ecc...) si usano le quadre\n",
    "\n",
    "matrice[0][1]"
   ]
  },
  {
   "cell_type": "code",
   "execution_count": 52,
   "id": "fff7b907",
   "metadata": {},
   "outputs": [
    {
     "name": "stdout",
     "output_type": "stream",
     "text": [
      "matrice1: [12.          0.4374071   0.38091043  0.52821836  0.17929586  0.83672189\n",
      "  0.17376379  0.56544659  0.51575429  0.06279393  0.2199303   0.70035978\n",
      "  0.73648422  0.92254979  0.86493638  0.02234078  0.27515489  0.37678225\n",
      "  0.1974602   0.16107683]\n",
      "matrice: [[12.          0.4374071   0.38091043  0.52821836  0.17929586]\n",
      " [ 0.83672189  0.17376379  0.56544659  0.51575429  0.06279393]\n",
      " [ 0.2199303   0.70035978  0.73648422  0.92254979  0.86493638]\n",
      " [ 0.02234078  0.27515489  0.37678225  0.1974602   0.16107683]]\n"
     ]
    }
   ],
   "source": [
    "# DA NOTARE:\n",
    "# se io modifico un elemento in matrice1 verrà modificato anche in matrice (vuol dire che puntano alla stessa\n",
    "# area di memoria, facendo così non si creano copie)\n",
    "\n",
    "matrice1[0] = 12\n",
    "print(f\"matrice1: {matrice1}\")\n",
    "print(f\"matrice: {matrice}\")"
   ]
  },
  {
   "cell_type": "code",
   "execution_count": 53,
   "id": "9b5d140f",
   "metadata": {},
   "outputs": [
    {
     "data": {
      "text/plain": [
       "array([[12.        ,  0.4374071 ,  0.38091043,  0.52821836,  0.17929586,\n",
       "         0.83672189,  0.17376379,  0.56544659,  0.51575429,  0.06279393],\n",
       "       [ 0.2199303 ,  0.70035978,  0.73648422,  0.92254979,  0.86493638,\n",
       "         0.02234078,  0.27515489,  0.37678225,  0.1974602 ,  0.16107683]])"
      ]
     },
     "execution_count": 53,
     "metadata": {},
     "output_type": "execute_result"
    }
   ],
   "source": [
    "# RESHAPE --> SERVE A MODIFICARE LA FORMA DEGLI OGGETTI NUMPY\n",
    "# si possono ridimensionare oggetti numpy solo con numeri di r e c che moltiplicati tra di loro danno un numero \n",
    "# uguale al prodotto di r e c iniziali\n",
    "\n",
    "matrice.reshape((2,10))"
   ]
  },
  {
   "cell_type": "code",
   "execution_count": 54,
   "id": "1821abd9",
   "metadata": {},
   "outputs": [
    {
     "name": "stdout",
     "output_type": "stream",
     "text": [
      "(4, 5)\n",
      "[[12.          0.83672189  0.2199303   0.02234078]\n",
      " [ 0.4374071   0.17376379  0.70035978  0.27515489]\n",
      " [ 0.38091043  0.56544659  0.73648422  0.37678225]\n",
      " [ 0.52821836  0.51575429  0.92254979  0.1974602 ]\n",
      " [ 0.17929586  0.06279393  0.86493638  0.16107683]]\n",
      "(4, 5)\n"
     ]
    }
   ],
   "source": [
    "# TRANSPOSE --> SERVE A FARE UNA MATRICE TRASPOSTA (ovvero si invertono le righe con le colonne)\n",
    "\n",
    "print(np.shape(matrice))\n",
    "print(matrice.transpose())\n",
    "print(np.shape(matrice))"
   ]
  },
  {
   "cell_type": "markdown",
   "id": "610d6930",
   "metadata": {},
   "source": [
    "### ESEMPI"
   ]
  },
  {
   "cell_type": "code",
   "execution_count": 55,
   "id": "0064959a",
   "metadata": {},
   "outputs": [
    {
     "data": {
      "text/plain": [
       "array([1, 2, 5, ..., 6, 2, 1])"
      ]
     },
     "execution_count": 55,
     "metadata": {},
     "output_type": "execute_result"
    }
   ],
   "source": [
    "# ES 1:\n",
    "# simulazione di lanci di un dato\n",
    "\n",
    "lancio_dato = np.random.randint(low=1, high=7, size=10000)\n",
    "lancio_dato"
   ]
  },
  {
   "cell_type": "code",
   "execution_count": 56,
   "id": "41f700e3",
   "metadata": {},
   "outputs": [
    {
     "data": {
      "text/plain": [
       "array([False, False, False, ...,  True, False, False])"
      ]
     },
     "execution_count": 56,
     "metadata": {},
     "output_type": "execute_result"
    }
   ],
   "source": [
    "# per verificare la presenza di un elemento dentro un oggetto numpy si può fare:\n",
    "lancio_dato == 6"
   ]
  },
  {
   "cell_type": "code",
   "execution_count": 57,
   "id": "99ff2f2a",
   "metadata": {},
   "outputs": [
    {
     "data": {
      "text/plain": [
       "0.1635"
      ]
     },
     "execution_count": 57,
     "metadata": {},
     "output_type": "execute_result"
    }
   ],
   "source": [
    "# contiamo quanti 6 sono usciti ed in seguito dividiamo per 10000 per calcolarne la probabilità\n",
    "np.count_nonzero(lancio_dato == 6)/10000\n",
    "\n",
    "# al tendere di infiniti lanci la probabilità reale si avvicina alla probabilità statistica"
   ]
  },
  {
   "cell_type": "code",
   "execution_count": 58,
   "id": "725a501d",
   "metadata": {},
   "outputs": [
    {
     "data": {
      "text/plain": [
       "0.4949"
      ]
     },
     "execution_count": 58,
     "metadata": {},
     "output_type": "execute_result"
    }
   ],
   "source": [
    "# per calcolare quante volte su 10000 lanci esce un numero >= 4 si fa:\n",
    "np.count_nonzero(lancio_dato >=4)/10000"
   ]
  },
  {
   "cell_type": "code",
   "execution_count": 59,
   "id": "b92c7ee5",
   "metadata": {},
   "outputs": [
    {
     "data": {
      "text/plain": [
       "0.1319"
      ]
     },
     "execution_count": 59,
     "metadata": {},
     "output_type": "execute_result"
    }
   ],
   "source": [
    "# per calcolare quanti 4 sono usciti sui 10000 lanci di 2 dati si fa:\n",
    "\n",
    "lancio_dato2 = np.random.randint(low=1, high=7, size=10000)\n",
    "np.count_nonzero(lancio_dato + lancio_dato2 ==8)/10000\n",
    "\n",
    "# facendo lancio_dato + lancio_dato2 io vado a sommare ogni singolo elemento dell'array lancio_dato con ogni singolo\n",
    "# elemento dell'array lancio_dato2\n",
    "\n",
    "# quindi se devo vedere la probabilità di quanti 4 sono usciti devo mettere 8 perche numpy somma le celle (4+4=8)"
   ]
  },
  {
   "cell_type": "code",
   "execution_count": null,
   "id": "a79b8981",
   "metadata": {},
   "outputs": [],
   "source": []
  }
 ],
 "metadata": {
  "kernelspec": {
   "display_name": "Python 3.8.8 64-bit ('base': conda)",
   "language": "python",
   "name": "python388jvsc74a57bd06f18c4de4160095836afbcd218945368ec6e483e1785db3592de3608027673bf"
  },
  "language_info": {
   "codemirror_mode": {
    "name": "ipython",
    "version": 3
   },
   "file_extension": ".py",
   "mimetype": "text/x-python",
   "name": "python",
   "nbconvert_exporter": "python",
   "pygments_lexer": "ipython3",
   "version": "3.8.8"
  }
 },
 "nbformat": 4,
 "nbformat_minor": 5
}


