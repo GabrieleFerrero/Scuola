{
 "cells": [
  {
   "cell_type": "code",
   "execution_count": 1,
   "id": "4789152e",
   "metadata": {},
   "outputs": [],
   "source": [
    "import numpy as np"
   ]
  },
  {
   "cell_type": "code",
   "execution_count": 2,
   "id": "d9663313",
   "metadata": {},
   "outputs": [
    {
     "data": {
      "text/plain": [
       "array([ 1,  2,  3, 12, 45])"
      ]
     },
     "execution_count": 2,
     "metadata": {},
     "output_type": "execute_result"
    }
   ],
   "source": [
    "a = np.array([1,2,3,12,45])\n",
    "a"
   ]
  },
  {
   "cell_type": "code",
   "execution_count": 4,
   "id": "0f95546e",
   "metadata": {},
   "outputs": [
    {
     "name": "stdout",
     "output_type": "stream",
     "text": [
      "1\n",
      "1\n",
      "2\n",
      "2\n",
      "3\n",
      "3\n",
      "12\n",
      "12\n",
      "45\n",
      "45\n"
     ]
    }
   ],
   "source": [
    "for i, el in enumerate(a):\n",
    "    print(el)\n",
    "    print(a[i])"
   ]
  },
  {
   "cell_type": "code",
   "execution_count": 6,
   "id": "a170fbdc",
   "metadata": {},
   "outputs": [
    {
     "data": {
      "text/plain": [
       "array([5, 5, 5, 5, 5])"
      ]
     },
     "execution_count": 6,
     "metadata": {},
     "output_type": "execute_result"
    }
   ],
   "source": [
    "a[...]=5  # con i 3 puntini io indico di assegnare tutti i valori a 5\n",
    "a"
   ]
  },
  {
   "cell_type": "code",
   "execution_count": 8,
   "id": "00c80544",
   "metadata": {},
   "outputs": [
    {
     "data": {
      "text/plain": [
       "array([99, 99, 99])"
      ]
     },
     "execution_count": 8,
     "metadata": {},
     "output_type": "execute_result"
    }
   ],
   "source": [
    "b = a [1:4]\n",
    "b[...] = 99\n",
    "b"
   ]
  },
  {
   "cell_type": "code",
   "execution_count": 9,
   "id": "b6aaac23",
   "metadata": {},
   "outputs": [
    {
     "data": {
      "text/plain": [
       "array([ 5, 99, 99, 99,  5])"
      ]
     },
     "execution_count": 9,
     "metadata": {},
     "output_type": "execute_result"
    }
   ],
   "source": [
    "a"
   ]
  },
  {
   "cell_type": "code",
   "execution_count": 10,
   "id": "8d699314",
   "metadata": {},
   "outputs": [],
   "source": [
    "# noto che b comunque punta ad a, b è una view di a"
   ]
  },
  {
   "cell_type": "code",
   "execution_count": 11,
   "id": "ac03da59",
   "metadata": {},
   "outputs": [
    {
     "data": {
      "text/plain": [
       "True"
      ]
     },
     "execution_count": 11,
     "metadata": {},
     "output_type": "execute_result"
    }
   ],
   "source": [
    "# per capire se un array è la view di un altro array si fa:\n",
    "b.base is a"
   ]
  },
  {
   "cell_type": "code",
   "execution_count": 13,
   "id": "53c460cf",
   "metadata": {},
   "outputs": [],
   "source": [
    "# con le lieste di python è l'esatto contrario:\n",
    "# - per fare copia di array numpy: a = b\n",
    "# - per fare copia di array python: a = b[:]\n",
    "\n",
    "# - per creare un array numpy che punta ad un altro array numpy: a = b[:]\n",
    "# - per creare un array python che punta ad un altro array python: a = b"
   ]
  },
  {
   "cell_type": "markdown",
   "id": "330798b8",
   "metadata": {},
   "source": [
    "### Indicizzazione Fancing"
   ]
  },
  {
   "cell_type": "code",
   "execution_count": 14,
   "id": "1442a61c",
   "metadata": {},
   "outputs": [
    {
     "data": {
      "text/plain": [
       "array([ 5, 99, 99])"
      ]
     },
     "execution_count": 14,
     "metadata": {},
     "output_type": "execute_result"
    }
   ],
   "source": [
    "f = [True,False,True,True,False]\n",
    "a [f]"
   ]
  },
  {
   "cell_type": "code",
   "execution_count": 16,
   "id": "1db391d9",
   "metadata": {},
   "outputs": [
    {
     "data": {
      "text/plain": [
       "array([ 5, 99, 99])"
      ]
     },
     "execution_count": 16,
     "metadata": {},
     "output_type": "execute_result"
    }
   ],
   "source": [
    "h = a[f] # con l'indicizzazione fancing io creo delle copie\n",
    "h"
   ]
  },
  {
   "cell_type": "code",
   "execution_count": 18,
   "id": "11e9d7bf",
   "metadata": {},
   "outputs": [
    {
     "data": {
      "text/plain": [
       "array([66, 66, 66])"
      ]
     },
     "execution_count": 18,
     "metadata": {},
     "output_type": "execute_result"
    }
   ],
   "source": [
    "h[...] = 66\n",
    "h"
   ]
  },
  {
   "cell_type": "code",
   "execution_count": 20,
   "id": "f76aa58d",
   "metadata": {},
   "outputs": [
    {
     "data": {
      "text/plain": [
       "array([ 5, 99, 99, 99,  5])"
      ]
     },
     "execution_count": 20,
     "metadata": {},
     "output_type": "execute_result"
    }
   ],
   "source": [
    "a  # io noto che il mio array iniziale non si è modificato"
   ]
  },
  {
   "cell_type": "markdown",
   "id": "602df285",
   "metadata": {},
   "source": [
    "### esempio"
   ]
  },
  {
   "cell_type": "code",
   "execution_count": 23,
   "id": "757404c3",
   "metadata": {},
   "outputs": [
    {
     "name": "stdout",
     "output_type": "stream",
     "text": [
      "[6 4 4 3 4 3 6 1 6 2]\n",
      "[6 5 1 2 3 5 1 4 5 2]\n"
     ]
    }
   ],
   "source": [
    "dato_Alice = np.random.randint(1,7,10)\n",
    "dato_Bob = np.random.randint(1,7,10)\n",
    "\n",
    "print(dato_Alice)\n",
    "print(dato_Bob)"
   ]
  },
  {
   "cell_type": "code",
   "execution_count": 24,
   "id": "0c3792ad",
   "metadata": {},
   "outputs": [
    {
     "data": {
      "text/plain": [
       "array([False, False,  True,  True,  True, False,  True, False,  True,\n",
       "       False])"
      ]
     },
     "execution_count": 24,
     "metadata": {},
     "output_type": "execute_result"
    }
   ],
   "source": [
    "dato_Alice > dato_Bob # per vedere quante volte Alice ha vinto"
   ]
  },
  {
   "cell_type": "code",
   "execution_count": 27,
   "id": "afc5b6cf",
   "metadata": {},
   "outputs": [
    {
     "data": {
      "text/plain": [
       "array([4, 3, 4, 6, 6])"
      ]
     },
     "execution_count": 27,
     "metadata": {},
     "output_type": "execute_result"
    }
   ],
   "source": [
    "# e per vedere con che lanci ha vinto Alice faccio:\n",
    "lanci_vittoria_Alice = dato_Alice[dato_Alice>dato_Bob]\n",
    "lanci_vittoria_Alice"
   ]
  },
  {
   "cell_type": "code",
   "execution_count": 30,
   "id": "c1168451",
   "metadata": {},
   "outputs": [
    {
     "data": {
      "text/plain": [
       "False"
      ]
     },
     "execution_count": 30,
     "metadata": {},
     "output_type": "execute_result"
    }
   ],
   "source": [
    "lanci_vittoria_Alice.base is dato_Alice"
   ]
  },
  {
   "cell_type": "markdown",
   "id": "81755d8c",
   "metadata": {},
   "source": [
    "### Altro modo di fare indicizzazione fancing"
   ]
  },
  {
   "cell_type": "code",
   "execution_count": 38,
   "id": "5fe12e13",
   "metadata": {},
   "outputs": [
    {
     "data": {
      "text/plain": [
       "array([ 5,  5, 99])"
      ]
     },
     "execution_count": 38,
     "metadata": {},
     "output_type": "execute_result"
    }
   ],
   "source": [
    "# apposto di passargli una lista di boolean, gli passo una lista degli indici che voglio\n",
    "l = a[[4,0,3]]\n",
    "l"
   ]
  },
  {
   "cell_type": "code",
   "execution_count": 36,
   "id": "3d25a83d",
   "metadata": {},
   "outputs": [
    {
     "data": {
      "text/plain": [
       "False"
      ]
     },
     "execution_count": 36,
     "metadata": {},
     "output_type": "execute_result"
    }
   ],
   "source": [
    "l.base in a"
   ]
  },
  {
   "cell_type": "code",
   "execution_count": 39,
   "id": "5f1cdcf7",
   "metadata": {},
   "outputs": [],
   "source": [
    "# tutto ciò è valido anche con le matrici"
   ]
  },
  {
   "cell_type": "code",
   "execution_count": 41,
   "id": "89a01858",
   "metadata": {},
   "outputs": [
    {
     "data": {
      "text/plain": [
       "array([[1, 2, 3],\n",
       "       [4, 5, 6],\n",
       "       [7, 8, 9]])"
      ]
     },
     "execution_count": 41,
     "metadata": {},
     "output_type": "execute_result"
    }
   ],
   "source": [
    "mat = np.array([[1,2,3],[4,5,6],[7,8,9]])\n",
    "mat"
   ]
  },
  {
   "cell_type": "code",
   "execution_count": 42,
   "id": "b6c4b0a6",
   "metadata": {},
   "outputs": [
    {
     "data": {
      "text/plain": [
       "array([1, 2, 3])"
      ]
     },
     "execution_count": 42,
     "metadata": {},
     "output_type": "execute_result"
    }
   ],
   "source": [
    "mat[0] # ottengo la prima riga"
   ]
  },
  {
   "cell_type": "code",
   "execution_count": 43,
   "id": "5df32b2a",
   "metadata": {},
   "outputs": [
    {
     "data": {
      "text/plain": [
       "1"
      ]
     },
     "execution_count": 43,
     "metadata": {},
     "output_type": "execute_result"
    }
   ],
   "source": [
    "mat[0][0] # ottengo il primo elemento"
   ]
  },
  {
   "cell_type": "code",
   "execution_count": 47,
   "id": "bb73b402",
   "metadata": {},
   "outputs": [
    {
     "data": {
      "text/plain": [
       "1"
      ]
     },
     "execution_count": 47,
     "metadata": {},
     "output_type": "execute_result"
    }
   ],
   "source": [
    "mat[0,0] # indicizzazione tipo matematica x e y"
   ]
  },
  {
   "cell_type": "code",
   "execution_count": 49,
   "id": "896c23ad",
   "metadata": {},
   "outputs": [
    {
     "data": {
      "text/plain": [
       "array([1, 4, 7])"
      ]
     },
     "execution_count": 49,
     "metadata": {},
     "output_type": "execute_result"
    }
   ],
   "source": [
    "prima_colonna = mat[:,0] # io con i due punti indico prendi tutte le righe e poi estrai quelle con indice 0\n",
    "prima_colonna"
   ]
  },
  {
   "cell_type": "code",
   "execution_count": 51,
   "id": "09916c1f",
   "metadata": {},
   "outputs": [
    {
     "data": {
      "text/plain": [
       "array([11, 11, 11])"
      ]
     },
     "execution_count": 51,
     "metadata": {},
     "output_type": "execute_result"
    }
   ],
   "source": [
    "prima_colonna[...] = 11\n",
    "prima_colonna"
   ]
  },
  {
   "cell_type": "code",
   "execution_count": 53,
   "id": "c91dcd3f",
   "metadata": {},
   "outputs": [
    {
     "data": {
      "text/plain": [
       "array([[11,  2,  3],\n",
       "       [11,  5,  6],\n",
       "       [11,  8,  9]])"
      ]
     },
     "execution_count": 53,
     "metadata": {},
     "output_type": "execute_result"
    }
   ],
   "source": [
    "mat # vedo che ho modificato anche mat"
   ]
  },
  {
   "cell_type": "code",
   "execution_count": 54,
   "id": "c6ef7a55",
   "metadata": {},
   "outputs": [
    {
     "data": {
      "text/plain": [
       "True"
      ]
     },
     "execution_count": 54,
     "metadata": {},
     "output_type": "execute_result"
    }
   ],
   "source": [
    "prima_colonna.base in mat"
   ]
  },
  {
   "cell_type": "code",
   "execution_count": 59,
   "id": "871fd147",
   "metadata": {},
   "outputs": [
    {
     "data": {
      "text/plain": [
       "array([[1, 1, 1, 0, 1, 0, 1, 1, 1, 1],\n",
       "       [0, 0, 1, 0, 0, 0, 0, 0, 0, 1],\n",
       "       [0, 1, 0, 0, 1, 0, 1, 0, 0, 0],\n",
       "       [0, 1, 1, 0, 1, 0, 1, 0, 0, 1],\n",
       "       [1, 0, 0, 0, 0, 0, 0, 1, 0, 1],\n",
       "       [1, 1, 0, 1, 1, 0, 1, 0, 0, 0],\n",
       "       [0, 0, 0, 0, 0, 0, 0, 0, 0, 0],\n",
       "       [1, 0, 1, 1, 0, 1, 1, 1, 1, 0],\n",
       "       [0, 0, 1, 1, 0, 0, 0, 1, 1, 0],\n",
       "       [1, 0, 0, 0, 0, 0, 0, 0, 0, 0]])"
      ]
     },
     "execution_count": 59,
     "metadata": {},
     "output_type": "execute_result"
    }
   ],
   "source": [
    "mat1 = np.random.randint(0,2,size=(10,10))\n",
    "mat1"
   ]
  },
  {
   "cell_type": "code",
   "execution_count": 64,
   "id": "cd96c105",
   "metadata": {},
   "outputs": [
    {
     "data": {
      "text/plain": [
       "array([[0, 0, 0, 0, 0, 0, 0, 0, 0, 0],\n",
       "       [0, 0, 1, 0, 0, 0, 0, 0, 0, 0],\n",
       "       [0, 1, 0, 0, 1, 0, 1, 0, 0, 0],\n",
       "       [0, 1, 1, 0, 1, 0, 1, 0, 0, 0],\n",
       "       [0, 0, 0, 0, 0, 0, 0, 1, 0, 0],\n",
       "       [0, 1, 0, 1, 1, 0, 1, 0, 0, 0],\n",
       "       [0, 0, 0, 0, 0, 0, 0, 0, 0, 0],\n",
       "       [0, 0, 1, 1, 0, 1, 1, 1, 1, 0],\n",
       "       [0, 0, 1, 1, 0, 0, 0, 1, 1, 0],\n",
       "       [0, 0, 0, 0, 0, 0, 0, 0, 0, 0]])"
      ]
     },
     "execution_count": 64,
     "metadata": {},
     "output_type": "execute_result"
    }
   ],
   "source": [
    "mat1[:,0][...] = 0\n",
    "mat1[:,9][...] = 0\n",
    "\n",
    "mat1[0, :][...] = 0\n",
    "mat1[9, :][...] = 0\n",
    "\n",
    "mat1 # così metto sul bordo della matrice tutti zeri"
   ]
  },
  {
   "cell_type": "code",
   "execution_count": 71,
   "id": "493ca006",
   "metadata": {},
   "outputs": [
    {
     "name": "stdout",
     "output_type": "stream",
     "text": [
      "[[0 1 1 1 1 1 1 1 1 1]\n",
      " [1 0 1 1 1 1 1 1 0 1]\n",
      " [0 1 1 1 1 1 1 0 0 1]\n",
      " [0 0 1 1 1 1 1 1 1 0]\n",
      " [1 1 0 1 0 0 1 0 0 1]\n",
      " [1 1 0 0 0 0 0 1 0 1]\n",
      " [0 1 1 0 1 0 0 0 0 0]\n",
      " [1 0 1 0 0 1 0 0 0 1]\n",
      " [0 1 0 1 0 0 0 0 1 1]\n",
      " [0 0 1 0 1 1 1 0 0 1]]\n"
     ]
    },
    {
     "data": {
      "text/plain": [
       "array([[1, 5, 9, 7, 6, 6, 6, 7, 7, 4],\n",
       "       [9, 0, 1, 1, 1, 1, 1, 1, 0, 8],\n",
       "       [2, 1, 1, 1, 1, 1, 1, 0, 0, 8],\n",
       "       [3, 0, 1, 1, 1, 1, 1, 1, 1, 1],\n",
       "       [2, 1, 0, 1, 0, 0, 1, 0, 0, 8],\n",
       "       [5, 1, 0, 0, 0, 0, 0, 1, 0, 9],\n",
       "       [2, 1, 1, 0, 1, 0, 0, 0, 0, 9],\n",
       "       [7, 0, 1, 0, 0, 1, 0, 0, 0, 5],\n",
       "       [7, 1, 0, 1, 0, 0, 0, 0, 1, 7],\n",
       "       [2, 5, 1, 5, 5, 3, 6, 7, 2, 3]])"
      ]
     },
     "execution_count": 71,
     "metadata": {},
     "output_type": "execute_result"
    }
   ],
   "source": [
    "mat2 = np.random.randint(0,2,size=(10,10))\n",
    "\n",
    "print(mat2)\n",
    "                         \n",
    "mat2[:,0] = np.random.randint(1,10,10)\n",
    "mat2[:,9] = np.random.randint(1,10,10)\n",
    "\n",
    "mat2[0, :] = np.random.randint(1,10,10)\n",
    "mat2[9, :] = np.random.randint(1,10,10)\n",
    "                         \n",
    "mat2"
   ]
  },
  {
   "cell_type": "code",
   "execution_count": null,
   "id": "c28e67bd",
   "metadata": {},
   "outputs": [],
   "source": []
  }
 ],
 "metadata": {
  "kernelspec": {
   "display_name": "Python 3 (ipykernel)",
   "language": "python",
   "name": "python3"
  },
  "language_info": {
   "codemirror_mode": {
    "name": "ipython",
    "version": 3
   },
   "file_extension": ".py",
   "mimetype": "text/x-python",
   "name": "python",
   "nbconvert_exporter": "python",
   "pygments_lexer": "ipython3",
   "version": "3.8.8"
  }
 },
 "nbformat": 4,
 "nbformat_minor": 5
}
