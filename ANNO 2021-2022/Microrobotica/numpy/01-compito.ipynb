{
 "cells": [
  {
   "cell_type": "code",
   "execution_count": 27,
   "id": "dfa08d96",
   "metadata": {},
   "outputs": [],
   "source": [
    "import numpy as np"
   ]
  },
  {
   "cell_type": "markdown",
   "id": "4aa07054",
   "metadata": {},
   "source": [
    "### ES 1\n",
    "Creare una funzione che inverta un ndarray monodimensionale, ovvero crei un array monodimensionale con gli stessi elementi dell'array di partenza in ordine inverso."
   ]
  },
  {
   "cell_type": "markdown",
   "id": "200d357c",
   "metadata": {},
   "source": [
    "#### CREAZIONE FUNZIONE PER INVERTIRE ARRAY"
   ]
  },
  {
   "cell_type": "code",
   "execution_count": 28,
   "id": "3d4f6251",
   "metadata": {},
   "outputs": [],
   "source": [
    "def inverti(lista):\n",
    "    \"\"\"\n",
    "    new_lista = []\n",
    "    for i in range(1, len(lista)+1):\n",
    "        new_lista.append(lista[-i]) # con -i ciclo partendo dall'ultimo elemento\n",
    "    return new_lista\n",
    "    \"\"\"\n",
    "    \n",
    "    # OPPURE\n",
    "    \n",
    "    return [lista[-i] for i in range(1, len(lista)+1)]"
   ]
  },
  {
   "cell_type": "markdown",
   "id": "c098233c",
   "metadata": {},
   "source": [
    "#### CREAZIONE ARRAY MONODIMENSIONALE"
   ]
  },
  {
   "cell_type": "code",
   "execution_count": 29,
   "id": "e9783378",
   "metadata": {},
   "outputs": [
    {
     "data": {
      "text/plain": [
       "array([1, 4, 6, 8, 9, 0])"
      ]
     },
     "execution_count": 29,
     "metadata": {},
     "output_type": "execute_result"
    }
   ],
   "source": [
    "array = np.array([1,4,6,8,9,0])\n",
    "array"
   ]
  },
  {
   "cell_type": "code",
   "execution_count": 30,
   "id": "60225df6",
   "metadata": {},
   "outputs": [
    {
     "data": {
      "text/plain": [
       "[0, 9, 8, 6, 4, 1]"
      ]
     },
     "execution_count": 30,
     "metadata": {},
     "output_type": "execute_result"
    }
   ],
   "source": [
    "array_invertito = inverti(array)\n",
    "array_invertito"
   ]
  },
  {
   "cell_type": "markdown",
   "id": "799576bd",
   "metadata": {},
   "source": [
    "### ES 2\n",
    "Generare un array Numpy che contenga le posizioni dei primi 100 numeri primi all'interno dei numeri naturali. "
   ]
  },
  {
   "cell_type": "markdown",
   "id": "0a6c7a2c",
   "metadata": {},
   "source": [
    "#### CREAZIONE COSTANTI"
   ]
  },
  {
   "cell_type": "code",
   "execution_count": 31,
   "id": "5c1405c3",
   "metadata": {},
   "outputs": [],
   "source": [
    "NUM_NUMERI_PRIMI = 100"
   ]
  },
  {
   "cell_type": "markdown",
   "id": "459f2135",
   "metadata": {},
   "source": [
    "#### CREAZIONE FUNZIONE PER GENERARE NUMERI REALI PRIMI"
   ]
  },
  {
   "cell_type": "code",
   "execution_count": 32,
   "id": "b03c7772",
   "metadata": {},
   "outputs": [],
   "source": [
    "def generatore_n_numeri_reali_primi():\n",
    "    num = 2;\n",
    "    num_primi = []\n",
    "    while(len(num_primi) < NUM_NUMERI_PRIMI):\n",
    "        \n",
    "        cond = True\n",
    "        for i in range(2, int(num/2)+1):\n",
    "            if num%i == 0: cond = False # per ottimizzarlo bisognerebbe fare un ciclo while e farlo uscire appena cond = False\n",
    "        \n",
    "        if cond: num_primi.append(num)\n",
    "        \n",
    "        num+=1\n",
    "    \n",
    "    return np.array(num_primi) "
   ]
  },
  {
   "cell_type": "code",
   "execution_count": 33,
   "id": "8c36b78c",
   "metadata": {},
   "outputs": [
    {
     "data": {
      "text/plain": [
       "array([  2,   3,   5,   7,  11,  13,  17,  19,  23,  29,  31,  37,  41,\n",
       "        43,  47,  53,  59,  61,  67,  71,  73,  79,  83,  89,  97, 101,\n",
       "       103, 107, 109, 113, 127, 131, 137, 139, 149, 151, 157, 163, 167,\n",
       "       173, 179, 181, 191, 193, 197, 199, 211, 223, 227, 229, 233, 239,\n",
       "       241, 251, 257, 263, 269, 271, 277, 281, 283, 293, 307, 311, 313,\n",
       "       317, 331, 337, 347, 349, 353, 359, 367, 373, 379, 383, 389, 397,\n",
       "       401, 409, 419, 421, 431, 433, 439, 443, 449, 457, 461, 463, 467,\n",
       "       479, 487, 491, 499, 503, 509, 521, 523, 541])"
      ]
     },
     "execution_count": 33,
     "metadata": {},
     "output_type": "execute_result"
    }
   ],
   "source": [
    "generatore_n_numeri_reali_primi()"
   ]
  },
  {
   "cell_type": "markdown",
   "id": "b6e8cbc7",
   "metadata": {},
   "source": [
    "### ES 3\n",
    "Generare un array Numpy contenente i primi 10 numeri di Fibonacci "
   ]
  },
  {
   "cell_type": "markdown",
   "id": "1162d6d9",
   "metadata": {},
   "source": [
    "#### CREAZIONE COSTANTI"
   ]
  },
  {
   "cell_type": "code",
   "execution_count": 34,
   "id": "bccd29ff",
   "metadata": {},
   "outputs": [],
   "source": [
    "NUM_FIBONACCI = 10"
   ]
  },
  {
   "cell_type": "markdown",
   "id": "45c0102e",
   "metadata": {},
   "source": [
    "#### CREAZIONE FUNZIONE PER GENERARE NUMERI REALI PRIMI"
   ]
  },
  {
   "cell_type": "code",
   "execution_count": 35,
   "id": "27b9c657",
   "metadata": {},
   "outputs": [],
   "source": [
    "def generatore_n_numeri_fibonacci():\n",
    "    num_fib = [1,1]\n",
    "    for i in range(2, NUM_FIBONACCI):\n",
    "        num_fib.append(num_fib[i-1]+num_fib[i-2])\n",
    "        \n",
    "    return np.array(num_fib)"
   ]
  },
  {
   "cell_type": "code",
   "execution_count": 36,
   "id": "a422416e",
   "metadata": {},
   "outputs": [
    {
     "data": {
      "text/plain": [
       "array([ 1,  1,  2,  3,  5,  8, 13, 21, 34, 55])"
      ]
     },
     "execution_count": 36,
     "metadata": {},
     "output_type": "execute_result"
    }
   ],
   "source": [
    "generatore_n_numeri_fibonacci()"
   ]
  }
 ],
 "metadata": {
  "kernelspec": {
   "display_name": "Python 3.8.8 64-bit ('base': conda)",
   "language": "python",
   "name": "python388jvsc74a57bd06f18c4de4160095836afbcd218945368ec6e483e1785db3592de3608027673bf"
  },
  "language_info": {
   "codemirror_mode": {
    "name": "ipython",
    "version": 3
   },
   "file_extension": ".py",
   "mimetype": "text/x-python",
   "name": "python",
   "nbconvert_exporter": "python",
   "pygments_lexer": "ipython3",
   "version": "3.8.8"
  }
 },
 "nbformat": 4,
 "nbformat_minor": 5
}
